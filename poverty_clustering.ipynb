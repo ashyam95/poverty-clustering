{
 "cells": [
  {
   "cell_type": "code",
   "execution_count": 52,
   "metadata": {},
   "outputs": [],
   "source": [
    "import matplotlib.pyplot as plt\n",
    "import numpy as np\n",
    "import pandas as pd\n",
    "import seaborn as sns\n",
    "import warnings\n",
    "\n",
    "from math import isnan\n",
    "from numpy.random import uniform\n",
    "from random import sample\n",
    "from scipy.cluster.hierarchy import linkage\n",
    "from scipy.cluster.hierarchy import dendrogram\n",
    "from scipy.cluster.hierarchy import cut_tree\n",
    "from sklearn.cluster import KMeans\n",
    "from sklearn.decomposition import PCA\n",
    "from sklearn.metrics import silhouette_score\n",
    "from sklearn.neighbors import NearestNeighbors\n",
    "from sklearn.preprocessing import StandardScaler\n",
    "\n",
    "warnings.filterwarnings('ignore')"
   ]
  },
  {
   "cell_type": "markdown",
   "metadata": {},
   "source": [
    "# Data Loading And Exploration"
   ]
  },
  {
   "cell_type": "code",
   "execution_count": 53,
   "metadata": {},
   "outputs": [
    {
     "data": {
      "text/html": [
       "<div>\n",
       "<style scoped>\n",
       "    .dataframe tbody tr th:only-of-type {\n",
       "        vertical-align: middle;\n",
       "    }\n",
       "\n",
       "    .dataframe tbody tr th {\n",
       "        vertical-align: top;\n",
       "    }\n",
       "\n",
       "    .dataframe thead th {\n",
       "        text-align: right;\n",
       "    }\n",
       "</style>\n",
       "<table border=\"1\" class=\"dataframe\">\n",
       "  <thead>\n",
       "    <tr style=\"text-align: right;\">\n",
       "      <th></th>\n",
       "      <th>country</th>\n",
       "      <th>child_mort</th>\n",
       "      <th>exports</th>\n",
       "      <th>health</th>\n",
       "      <th>imports</th>\n",
       "      <th>income</th>\n",
       "      <th>inflation</th>\n",
       "      <th>life_expec</th>\n",
       "      <th>total_fer</th>\n",
       "      <th>gdpp</th>\n",
       "    </tr>\n",
       "  </thead>\n",
       "  <tbody>\n",
       "    <tr>\n",
       "      <th>0</th>\n",
       "      <td>Afghanistan</td>\n",
       "      <td>90.2</td>\n",
       "      <td>10.0</td>\n",
       "      <td>7.58</td>\n",
       "      <td>44.9</td>\n",
       "      <td>1610</td>\n",
       "      <td>9.44</td>\n",
       "      <td>56.2</td>\n",
       "      <td>5.82</td>\n",
       "      <td>553</td>\n",
       "    </tr>\n",
       "    <tr>\n",
       "      <th>1</th>\n",
       "      <td>Albania</td>\n",
       "      <td>16.6</td>\n",
       "      <td>28.0</td>\n",
       "      <td>6.55</td>\n",
       "      <td>48.6</td>\n",
       "      <td>9930</td>\n",
       "      <td>4.49</td>\n",
       "      <td>76.3</td>\n",
       "      <td>1.65</td>\n",
       "      <td>4090</td>\n",
       "    </tr>\n",
       "    <tr>\n",
       "      <th>2</th>\n",
       "      <td>Algeria</td>\n",
       "      <td>27.3</td>\n",
       "      <td>38.4</td>\n",
       "      <td>4.17</td>\n",
       "      <td>31.4</td>\n",
       "      <td>12900</td>\n",
       "      <td>16.10</td>\n",
       "      <td>76.5</td>\n",
       "      <td>2.89</td>\n",
       "      <td>4460</td>\n",
       "    </tr>\n",
       "    <tr>\n",
       "      <th>3</th>\n",
       "      <td>Angola</td>\n",
       "      <td>119.0</td>\n",
       "      <td>62.3</td>\n",
       "      <td>2.85</td>\n",
       "      <td>42.9</td>\n",
       "      <td>5900</td>\n",
       "      <td>22.40</td>\n",
       "      <td>60.1</td>\n",
       "      <td>6.16</td>\n",
       "      <td>3530</td>\n",
       "    </tr>\n",
       "    <tr>\n",
       "      <th>4</th>\n",
       "      <td>Antigua and Barbuda</td>\n",
       "      <td>10.3</td>\n",
       "      <td>45.5</td>\n",
       "      <td>6.03</td>\n",
       "      <td>58.9</td>\n",
       "      <td>19100</td>\n",
       "      <td>1.44</td>\n",
       "      <td>76.8</td>\n",
       "      <td>2.13</td>\n",
       "      <td>12200</td>\n",
       "    </tr>\n",
       "  </tbody>\n",
       "</table>\n",
       "</div>"
      ],
      "text/plain": [
       "               country  child_mort  exports  health  imports  income  \\\n",
       "0          Afghanistan        90.2     10.0    7.58     44.9    1610   \n",
       "1              Albania        16.6     28.0    6.55     48.6    9930   \n",
       "2              Algeria        27.3     38.4    4.17     31.4   12900   \n",
       "3               Angola       119.0     62.3    2.85     42.9    5900   \n",
       "4  Antigua and Barbuda        10.3     45.5    6.03     58.9   19100   \n",
       "\n",
       "   inflation  life_expec  total_fer   gdpp  \n",
       "0       9.44        56.2       5.82    553  \n",
       "1       4.49        76.3       1.65   4090  \n",
       "2      16.10        76.5       2.89   4460  \n",
       "3      22.40        60.1       6.16   3530  \n",
       "4       1.44        76.8       2.13  12200  "
      ]
     },
     "execution_count": 53,
     "metadata": {},
     "output_type": "execute_result"
    }
   ],
   "source": [
    "data = pd.read_csv('Country-data.csv')\n",
    "data.head()"
   ]
  },
  {
   "cell_type": "code",
   "execution_count": 54,
   "metadata": {},
   "outputs": [
    {
     "data": {
      "text/html": [
       "<div>\n",
       "<style scoped>\n",
       "    .dataframe tbody tr th:only-of-type {\n",
       "        vertical-align: middle;\n",
       "    }\n",
       "\n",
       "    .dataframe tbody tr th {\n",
       "        vertical-align: top;\n",
       "    }\n",
       "\n",
       "    .dataframe thead th {\n",
       "        text-align: right;\n",
       "    }\n",
       "</style>\n",
       "<table border=\"1\" class=\"dataframe\">\n",
       "  <thead>\n",
       "    <tr style=\"text-align: right;\">\n",
       "      <th></th>\n",
       "      <th>child_mort</th>\n",
       "      <th>exports</th>\n",
       "      <th>health</th>\n",
       "      <th>imports</th>\n",
       "      <th>income</th>\n",
       "      <th>inflation</th>\n",
       "      <th>life_expec</th>\n",
       "      <th>total_fer</th>\n",
       "      <th>gdpp</th>\n",
       "    </tr>\n",
       "  </thead>\n",
       "  <tbody>\n",
       "    <tr>\n",
       "      <th>0</th>\n",
       "      <td>90.2</td>\n",
       "      <td>10.0</td>\n",
       "      <td>7.58</td>\n",
       "      <td>44.9</td>\n",
       "      <td>1610</td>\n",
       "      <td>9.44</td>\n",
       "      <td>56.2</td>\n",
       "      <td>5.82</td>\n",
       "      <td>553</td>\n",
       "    </tr>\n",
       "    <tr>\n",
       "      <th>1</th>\n",
       "      <td>16.6</td>\n",
       "      <td>28.0</td>\n",
       "      <td>6.55</td>\n",
       "      <td>48.6</td>\n",
       "      <td>9930</td>\n",
       "      <td>4.49</td>\n",
       "      <td>76.3</td>\n",
       "      <td>1.65</td>\n",
       "      <td>4090</td>\n",
       "    </tr>\n",
       "    <tr>\n",
       "      <th>2</th>\n",
       "      <td>27.3</td>\n",
       "      <td>38.4</td>\n",
       "      <td>4.17</td>\n",
       "      <td>31.4</td>\n",
       "      <td>12900</td>\n",
       "      <td>16.10</td>\n",
       "      <td>76.5</td>\n",
       "      <td>2.89</td>\n",
       "      <td>4460</td>\n",
       "    </tr>\n",
       "    <tr>\n",
       "      <th>3</th>\n",
       "      <td>119.0</td>\n",
       "      <td>62.3</td>\n",
       "      <td>2.85</td>\n",
       "      <td>42.9</td>\n",
       "      <td>5900</td>\n",
       "      <td>22.40</td>\n",
       "      <td>60.1</td>\n",
       "      <td>6.16</td>\n",
       "      <td>3530</td>\n",
       "    </tr>\n",
       "    <tr>\n",
       "      <th>4</th>\n",
       "      <td>10.3</td>\n",
       "      <td>45.5</td>\n",
       "      <td>6.03</td>\n",
       "      <td>58.9</td>\n",
       "      <td>19100</td>\n",
       "      <td>1.44</td>\n",
       "      <td>76.8</td>\n",
       "      <td>2.13</td>\n",
       "      <td>12200</td>\n",
       "    </tr>\n",
       "  </tbody>\n",
       "</table>\n",
       "</div>"
      ],
      "text/plain": [
       "   child_mort  exports  health  imports  income  inflation  life_expec  \\\n",
       "0        90.2     10.0    7.58     44.9    1610       9.44        56.2   \n",
       "1        16.6     28.0    6.55     48.6    9930       4.49        76.3   \n",
       "2        27.3     38.4    4.17     31.4   12900      16.10        76.5   \n",
       "3       119.0     62.3    2.85     42.9    5900      22.40        60.1   \n",
       "4        10.3     45.5    6.03     58.9   19100       1.44        76.8   \n",
       "\n",
       "   total_fer   gdpp  \n",
       "0       5.82    553  \n",
       "1       1.65   4090  \n",
       "2       2.89   4460  \n",
       "3       6.16   3530  \n",
       "4       2.13  12200  "
      ]
     },
     "execution_count": 54,
     "metadata": {},
     "output_type": "execute_result"
    }
   ],
   "source": [
    "y = data.pop('country')\n",
    "data.head()"
   ]
  },
  {
   "cell_type": "code",
   "execution_count": 55,
   "metadata": {},
   "outputs": [
    {
     "data": {
      "text/plain": [
       "(167, 9)"
      ]
     },
     "execution_count": 55,
     "metadata": {},
     "output_type": "execute_result"
    }
   ],
   "source": [
    "data.shape"
   ]
  },
  {
   "cell_type": "code",
   "execution_count": 56,
   "metadata": {},
   "outputs": [
    {
     "name": "stdout",
     "output_type": "stream",
     "text": [
      "<class 'pandas.core.frame.DataFrame'>\n",
      "RangeIndex: 167 entries, 0 to 166\n",
      "Data columns (total 9 columns):\n",
      "child_mort    167 non-null float64\n",
      "exports       167 non-null float64\n",
      "health        167 non-null float64\n",
      "imports       167 non-null float64\n",
      "income        167 non-null int64\n",
      "inflation     167 non-null float64\n",
      "life_expec    167 non-null float64\n",
      "total_fer     167 non-null float64\n",
      "gdpp          167 non-null int64\n",
      "dtypes: float64(7), int64(2)\n",
      "memory usage: 11.8 KB\n"
     ]
    }
   ],
   "source": [
    "data.info()"
   ]
  },
  {
   "cell_type": "markdown",
   "metadata": {},
   "source": [
    "We have all variables as numbers."
   ]
  },
  {
   "cell_type": "markdown",
   "metadata": {},
   "source": [
    "### Check for outlier"
   ]
  },
  {
   "cell_type": "code",
   "execution_count": 57,
   "metadata": {},
   "outputs": [
    {
     "data": {
      "text/html": [
       "<div>\n",
       "<style scoped>\n",
       "    .dataframe tbody tr th:only-of-type {\n",
       "        vertical-align: middle;\n",
       "    }\n",
       "\n",
       "    .dataframe tbody tr th {\n",
       "        vertical-align: top;\n",
       "    }\n",
       "\n",
       "    .dataframe thead th {\n",
       "        text-align: right;\n",
       "    }\n",
       "</style>\n",
       "<table border=\"1\" class=\"dataframe\">\n",
       "  <thead>\n",
       "    <tr style=\"text-align: right;\">\n",
       "      <th></th>\n",
       "      <th>child_mort</th>\n",
       "      <th>exports</th>\n",
       "      <th>health</th>\n",
       "      <th>imports</th>\n",
       "      <th>income</th>\n",
       "      <th>inflation</th>\n",
       "      <th>life_expec</th>\n",
       "      <th>total_fer</th>\n",
       "      <th>gdpp</th>\n",
       "    </tr>\n",
       "  </thead>\n",
       "  <tbody>\n",
       "    <tr>\n",
       "      <th>count</th>\n",
       "      <td>167.000000</td>\n",
       "      <td>167.000000</td>\n",
       "      <td>167.000000</td>\n",
       "      <td>167.000000</td>\n",
       "      <td>167.000000</td>\n",
       "      <td>167.000000</td>\n",
       "      <td>167.000000</td>\n",
       "      <td>167.000000</td>\n",
       "      <td>167.000000</td>\n",
       "    </tr>\n",
       "    <tr>\n",
       "      <th>mean</th>\n",
       "      <td>38.270060</td>\n",
       "      <td>41.108976</td>\n",
       "      <td>6.815689</td>\n",
       "      <td>46.890215</td>\n",
       "      <td>17144.688623</td>\n",
       "      <td>7.781832</td>\n",
       "      <td>70.555689</td>\n",
       "      <td>2.947964</td>\n",
       "      <td>12964.155689</td>\n",
       "    </tr>\n",
       "    <tr>\n",
       "      <th>std</th>\n",
       "      <td>40.328931</td>\n",
       "      <td>27.412010</td>\n",
       "      <td>2.746837</td>\n",
       "      <td>24.209589</td>\n",
       "      <td>19278.067698</td>\n",
       "      <td>10.570704</td>\n",
       "      <td>8.893172</td>\n",
       "      <td>1.513848</td>\n",
       "      <td>18328.704809</td>\n",
       "    </tr>\n",
       "    <tr>\n",
       "      <th>min</th>\n",
       "      <td>2.600000</td>\n",
       "      <td>0.109000</td>\n",
       "      <td>1.810000</td>\n",
       "      <td>0.065900</td>\n",
       "      <td>609.000000</td>\n",
       "      <td>-4.210000</td>\n",
       "      <td>32.100000</td>\n",
       "      <td>1.150000</td>\n",
       "      <td>231.000000</td>\n",
       "    </tr>\n",
       "    <tr>\n",
       "      <th>25%</th>\n",
       "      <td>8.250000</td>\n",
       "      <td>23.800000</td>\n",
       "      <td>4.920000</td>\n",
       "      <td>30.200000</td>\n",
       "      <td>3355.000000</td>\n",
       "      <td>1.810000</td>\n",
       "      <td>65.300000</td>\n",
       "      <td>1.795000</td>\n",
       "      <td>1330.000000</td>\n",
       "    </tr>\n",
       "    <tr>\n",
       "      <th>50%</th>\n",
       "      <td>19.300000</td>\n",
       "      <td>35.000000</td>\n",
       "      <td>6.320000</td>\n",
       "      <td>43.300000</td>\n",
       "      <td>9960.000000</td>\n",
       "      <td>5.390000</td>\n",
       "      <td>73.100000</td>\n",
       "      <td>2.410000</td>\n",
       "      <td>4660.000000</td>\n",
       "    </tr>\n",
       "    <tr>\n",
       "      <th>75%</th>\n",
       "      <td>62.100000</td>\n",
       "      <td>51.350000</td>\n",
       "      <td>8.600000</td>\n",
       "      <td>58.750000</td>\n",
       "      <td>22800.000000</td>\n",
       "      <td>10.750000</td>\n",
       "      <td>76.800000</td>\n",
       "      <td>3.880000</td>\n",
       "      <td>14050.000000</td>\n",
       "    </tr>\n",
       "    <tr>\n",
       "      <th>90%</th>\n",
       "      <td>100.220000</td>\n",
       "      <td>70.800000</td>\n",
       "      <td>10.940000</td>\n",
       "      <td>75.420000</td>\n",
       "      <td>41220.000000</td>\n",
       "      <td>16.640000</td>\n",
       "      <td>80.400000</td>\n",
       "      <td>5.322000</td>\n",
       "      <td>41840.000000</td>\n",
       "    </tr>\n",
       "    <tr>\n",
       "      <th>95%</th>\n",
       "      <td>116.000000</td>\n",
       "      <td>80.570000</td>\n",
       "      <td>11.570000</td>\n",
       "      <td>81.140000</td>\n",
       "      <td>48290.000000</td>\n",
       "      <td>20.870000</td>\n",
       "      <td>81.400000</td>\n",
       "      <td>5.861000</td>\n",
       "      <td>48610.000000</td>\n",
       "    </tr>\n",
       "    <tr>\n",
       "      <th>99%</th>\n",
       "      <td>153.400000</td>\n",
       "      <td>160.480000</td>\n",
       "      <td>13.474000</td>\n",
       "      <td>146.080000</td>\n",
       "      <td>84374.000000</td>\n",
       "      <td>41.478000</td>\n",
       "      <td>82.370000</td>\n",
       "      <td>6.563600</td>\n",
       "      <td>79088.000000</td>\n",
       "    </tr>\n",
       "    <tr>\n",
       "      <th>max</th>\n",
       "      <td>208.000000</td>\n",
       "      <td>200.000000</td>\n",
       "      <td>17.900000</td>\n",
       "      <td>174.000000</td>\n",
       "      <td>125000.000000</td>\n",
       "      <td>104.000000</td>\n",
       "      <td>82.800000</td>\n",
       "      <td>7.490000</td>\n",
       "      <td>105000.000000</td>\n",
       "    </tr>\n",
       "  </tbody>\n",
       "</table>\n",
       "</div>"
      ],
      "text/plain": [
       "       child_mort     exports      health     imports         income  \\\n",
       "count  167.000000  167.000000  167.000000  167.000000     167.000000   \n",
       "mean    38.270060   41.108976    6.815689   46.890215   17144.688623   \n",
       "std     40.328931   27.412010    2.746837   24.209589   19278.067698   \n",
       "min      2.600000    0.109000    1.810000    0.065900     609.000000   \n",
       "25%      8.250000   23.800000    4.920000   30.200000    3355.000000   \n",
       "50%     19.300000   35.000000    6.320000   43.300000    9960.000000   \n",
       "75%     62.100000   51.350000    8.600000   58.750000   22800.000000   \n",
       "90%    100.220000   70.800000   10.940000   75.420000   41220.000000   \n",
       "95%    116.000000   80.570000   11.570000   81.140000   48290.000000   \n",
       "99%    153.400000  160.480000   13.474000  146.080000   84374.000000   \n",
       "max    208.000000  200.000000   17.900000  174.000000  125000.000000   \n",
       "\n",
       "        inflation  life_expec   total_fer           gdpp  \n",
       "count  167.000000  167.000000  167.000000     167.000000  \n",
       "mean     7.781832   70.555689    2.947964   12964.155689  \n",
       "std     10.570704    8.893172    1.513848   18328.704809  \n",
       "min     -4.210000   32.100000    1.150000     231.000000  \n",
       "25%      1.810000   65.300000    1.795000    1330.000000  \n",
       "50%      5.390000   73.100000    2.410000    4660.000000  \n",
       "75%     10.750000   76.800000    3.880000   14050.000000  \n",
       "90%     16.640000   80.400000    5.322000   41840.000000  \n",
       "95%     20.870000   81.400000    5.861000   48610.000000  \n",
       "99%     41.478000   82.370000    6.563600   79088.000000  \n",
       "max    104.000000   82.800000    7.490000  105000.000000  "
      ]
     },
     "execution_count": 57,
     "metadata": {},
     "output_type": "execute_result"
    }
   ],
   "source": [
    "# Checking outliers at 25%, 50%, 75%, 90%, 95% and 99%\n",
    "data.describe(percentiles=[.25, .5, .75, .90, .95, .99])"
   ]
  },
  {
   "cell_type": "markdown",
   "metadata": {},
   "source": [
    "Looks like the numbers are increasing gradually. Therefore, there are no outliers that needs to be treated."
   ]
  },
  {
   "cell_type": "code",
   "execution_count": 58,
   "metadata": {},
   "outputs": [
    {
     "data": {
      "text/plain": [
       "{'whiskers': [<matplotlib.lines.Line2D at 0x127082c88>,\n",
       "  <matplotlib.lines.Line2D at 0x127082fd0>],\n",
       " 'caps': [<matplotlib.lines.Line2D at 0x12708b358>,\n",
       "  <matplotlib.lines.Line2D at 0x12708b6a0>],\n",
       " 'boxes': [<matplotlib.lines.Line2D at 0x127082898>],\n",
       " 'medians': [<matplotlib.lines.Line2D at 0x12708b9e8>],\n",
       " 'fliers': [<matplotlib.lines.Line2D at 0x12708bd30>],\n",
       " 'means': []}"
      ]
     },
     "execution_count": 58,
     "metadata": {},
     "output_type": "execute_result"
    },
    {
     "data": {
      "image/png": "[encoded data removed]",
      "text/plain": [
       "<Figure size 432x288 with 1 Axes>"
      ]
     },
     "metadata": {
      "needs_background": "light"
     },
     "output_type": "display_data"
    }
   ],
   "source": [
    "plt.boxplot(data['income'])"
   ]
  },
  {
   "cell_type": "code",
   "execution_count": 59,
   "metadata": {},
   "outputs": [
    {
     "name": "stdout",
     "output_type": "stream",
     "text": [
      "child_mort      112.5400\n",
      "exports          68.4500\n",
      "health            8.7790\n",
      "imports          63.0100\n",
      "income        47077.0000\n",
      "inflation        20.6866\n",
      "life_expec       25.6200\n",
      "total_fer         4.4710\n",
      "gdpp          48144.1000\n",
      "dtype: float64\n"
     ]
    }
   ],
   "source": [
    "Q1 = data.quantile(0.05)\n",
    "Q3 = data.quantile(0.95)\n",
    "IQR = Q3 - Q1\n",
    "print(IQR)"
   ]
  },
  {
   "cell_type": "code",
   "execution_count": 60,
   "metadata": {},
   "outputs": [
    {
     "data": {
      "text/html": [
       "<div>\n",
       "<style scoped>\n",
       "    .dataframe tbody tr th:only-of-type {\n",
       "        vertical-align: middle;\n",
       "    }\n",
       "\n",
       "    .dataframe tbody tr th {\n",
       "        vertical-align: top;\n",
       "    }\n",
       "\n",
       "    .dataframe thead th {\n",
       "        text-align: right;\n",
       "    }\n",
       "</style>\n",
       "<table border=\"1\" class=\"dataframe\">\n",
       "  <thead>\n",
       "    <tr style=\"text-align: right;\">\n",
       "      <th></th>\n",
       "      <th>child_mort</th>\n",
       "      <th>exports</th>\n",
       "      <th>health</th>\n",
       "      <th>imports</th>\n",
       "      <th>income</th>\n",
       "      <th>inflation</th>\n",
       "      <th>life_expec</th>\n",
       "      <th>total_fer</th>\n",
       "      <th>gdpp</th>\n",
       "    </tr>\n",
       "  </thead>\n",
       "  <tbody>\n",
       "    <tr>\n",
       "      <th>count</th>\n",
       "      <td>164.000000</td>\n",
       "      <td>164.000000</td>\n",
       "      <td>164.000000</td>\n",
       "      <td>164.000000</td>\n",
       "      <td>164.000000</td>\n",
       "      <td>164.000000</td>\n",
       "      <td>164.000000</td>\n",
       "      <td>164.000000</td>\n",
       "      <td>164.000000</td>\n",
       "    </tr>\n",
       "    <tr>\n",
       "      <th>mean</th>\n",
       "      <td>38.105488</td>\n",
       "      <td>40.107311</td>\n",
       "      <td>6.874268</td>\n",
       "      <td>46.435768</td>\n",
       "      <td>16225.079268</td>\n",
       "      <td>7.247756</td>\n",
       "      <td>70.488415</td>\n",
       "      <td>2.946646</td>\n",
       "      <td>12474.292683</td>\n",
       "    </tr>\n",
       "    <tr>\n",
       "      <th>std</th>\n",
       "      <td>39.896529</td>\n",
       "      <td>24.598063</td>\n",
       "      <td>2.730949</td>\n",
       "      <td>22.112332</td>\n",
       "      <td>16936.812864</td>\n",
       "      <td>7.505487</td>\n",
       "      <td>8.861355</td>\n",
       "      <td>1.502677</td>\n",
       "      <td>17722.307006</td>\n",
       "    </tr>\n",
       "    <tr>\n",
       "      <th>min</th>\n",
       "      <td>2.600000</td>\n",
       "      <td>0.109000</td>\n",
       "      <td>1.970000</td>\n",
       "      <td>0.065900</td>\n",
       "      <td>609.000000</td>\n",
       "      <td>-4.210000</td>\n",
       "      <td>32.100000</td>\n",
       "      <td>1.230000</td>\n",
       "      <td>231.000000</td>\n",
       "    </tr>\n",
       "    <tr>\n",
       "      <th>25%</th>\n",
       "      <td>8.425000</td>\n",
       "      <td>23.725000</td>\n",
       "      <td>4.960000</td>\n",
       "      <td>30.625000</td>\n",
       "      <td>3335.000000</td>\n",
       "      <td>1.830000</td>\n",
       "      <td>65.300000</td>\n",
       "      <td>1.797500</td>\n",
       "      <td>1310.000000</td>\n",
       "    </tr>\n",
       "    <tr>\n",
       "      <th>50%</th>\n",
       "      <td>19.500000</td>\n",
       "      <td>35.000000</td>\n",
       "      <td>6.400000</td>\n",
       "      <td>43.300000</td>\n",
       "      <td>9950.000000</td>\n",
       "      <td>5.265000</td>\n",
       "      <td>73.100000</td>\n",
       "      <td>2.410000</td>\n",
       "      <td>4635.000000</td>\n",
       "    </tr>\n",
       "    <tr>\n",
       "      <th>75%</th>\n",
       "      <td>62.050000</td>\n",
       "      <td>51.225000</td>\n",
       "      <td>8.670000</td>\n",
       "      <td>58.675000</td>\n",
       "      <td>22400.000000</td>\n",
       "      <td>10.675000</td>\n",
       "      <td>76.725000</td>\n",
       "      <td>3.865000</td>\n",
       "      <td>13500.000000</td>\n",
       "    </tr>\n",
       "    <tr>\n",
       "      <th>90%</th>\n",
       "      <td>99.010000</td>\n",
       "      <td>69.850000</td>\n",
       "      <td>10.970000</td>\n",
       "      <td>73.590000</td>\n",
       "      <td>40980.000000</td>\n",
       "      <td>16.600000</td>\n",
       "      <td>80.400000</td>\n",
       "      <td>5.298000</td>\n",
       "      <td>40090.000000</td>\n",
       "    </tr>\n",
       "    <tr>\n",
       "      <th>95%</th>\n",
       "      <td>115.700000</td>\n",
       "      <td>77.685000</td>\n",
       "      <td>11.585000</td>\n",
       "      <td>80.880000</td>\n",
       "      <td>45485.000000</td>\n",
       "      <td>20.785000</td>\n",
       "      <td>81.385000</td>\n",
       "      <td>5.862500</td>\n",
       "      <td>48250.000000</td>\n",
       "    </tr>\n",
       "    <tr>\n",
       "      <th>99%</th>\n",
       "      <td>153.700000</td>\n",
       "      <td>121.500000</td>\n",
       "      <td>13.507000</td>\n",
       "      <td>120.580000</td>\n",
       "      <td>77198.000000</td>\n",
       "      <td>31.199000</td>\n",
       "      <td>82.074000</td>\n",
       "      <td>6.564800</td>\n",
       "      <td>79484.000000</td>\n",
       "    </tr>\n",
       "    <tr>\n",
       "      <th>max</th>\n",
       "      <td>208.000000</td>\n",
       "      <td>175.000000</td>\n",
       "      <td>17.900000</td>\n",
       "      <td>154.000000</td>\n",
       "      <td>91700.000000</td>\n",
       "      <td>45.900000</td>\n",
       "      <td>82.800000</td>\n",
       "      <td>7.490000</td>\n",
       "      <td>105000.000000</td>\n",
       "    </tr>\n",
       "  </tbody>\n",
       "</table>\n",
       "</div>"
      ],
      "text/plain": [
       "       child_mort     exports      health     imports        income  \\\n",
       "count  164.000000  164.000000  164.000000  164.000000    164.000000   \n",
       "mean    38.105488   40.107311    6.874268   46.435768  16225.079268   \n",
       "std     39.896529   24.598063    2.730949   22.112332  16936.812864   \n",
       "min      2.600000    0.109000    1.970000    0.065900    609.000000   \n",
       "25%      8.425000   23.725000    4.960000   30.625000   3335.000000   \n",
       "50%     19.500000   35.000000    6.400000   43.300000   9950.000000   \n",
       "75%     62.050000   51.225000    8.670000   58.675000  22400.000000   \n",
       "90%     99.010000   69.850000   10.970000   73.590000  40980.000000   \n",
       "95%    115.700000   77.685000   11.585000   80.880000  45485.000000   \n",
       "99%    153.700000  121.500000   13.507000  120.580000  77198.000000   \n",
       "max    208.000000  175.000000   17.900000  154.000000  91700.000000   \n",
       "\n",
       "        inflation  life_expec   total_fer           gdpp  \n",
       "count  164.000000  164.000000  164.000000     164.000000  \n",
       "mean     7.247756   70.488415    2.946646   12474.292683  \n",
       "std      7.505487    8.861355    1.502677   17722.307006  \n",
       "min     -4.210000   32.100000    1.230000     231.000000  \n",
       "25%      1.830000   65.300000    1.797500    1310.000000  \n",
       "50%      5.265000   73.100000    2.410000    4635.000000  \n",
       "75%     10.675000   76.725000    3.865000   13500.000000  \n",
       "90%     16.600000   80.400000    5.298000   40090.000000  \n",
       "95%     20.785000   81.385000    5.862500   48250.000000  \n",
       "99%     31.199000   82.074000    6.564800   79484.000000  \n",
       "max     45.900000   82.800000    7.490000  105000.000000  "
      ]
     },
     "execution_count": 60,
     "metadata": {},
     "output_type": "execute_result"
    }
   ],
   "source": [
    "data = data[~((data < (Q1 - 1.5 * IQR)) | (data > (Q3 + 1.5 * IQR))).any(axis=1)]\n",
    "data.describe(percentiles=[.25, .5, .75, .90, .95, .99])"
   ]
  },
  {
   "cell_type": "code",
   "execution_count": 61,
   "metadata": {},
   "outputs": [
    {
     "data": {
      "text/plain": [
       "{'whiskers': [<matplotlib.lines.Line2D at 0x1272a37f0>,\n",
       "  <matplotlib.lines.Line2D at 0x1272a3b38>],\n",
       " 'caps': [<matplotlib.lines.Line2D at 0x1272a3e80>,\n",
       "  <matplotlib.lines.Line2D at 0x1272a3f28>],\n",
       " 'boxes': [<matplotlib.lines.Line2D at 0x1272a3400>],\n",
       " 'medians': [<matplotlib.lines.Line2D at 0x1272b1550>],\n",
       " 'fliers': [<matplotlib.lines.Line2D at 0x1272b1898>],\n",
       " 'means': []}"
      ]
     },
     "execution_count": 61,
     "metadata": {},
     "output_type": "execute_result"
    },
    {
     "data": {
      "image/png": "[encoded data removed]",
      "text/plain": [
       "<Figure size 432x288 with 1 Axes>"
      ]
     },
     "metadata": {
      "needs_background": "light"
     },
     "output_type": "display_data"
    }
   ],
   "source": [
    "plt.boxplot(data[~((data < (Q1 - 1.5 * IQR)) | (data > (Q3 + 1.5 * IQR))).any(axis=1)]['gdpp'])"
   ]
  },
  {
   "cell_type": "code",
   "execution_count": 62,
   "metadata": {},
   "outputs": [
    {
     "data": {
      "text/plain": [
       "{'whiskers': [<matplotlib.lines.Line2D at 0x127304a58>,\n",
       "  <matplotlib.lines.Line2D at 0x127304da0>],\n",
       " 'caps': [<matplotlib.lines.Line2D at 0x127304e48>,\n",
       "  <matplotlib.lines.Line2D at 0x127313470>],\n",
       " 'boxes': [<matplotlib.lines.Line2D at 0x127304668>],\n",
       " 'medians': [<matplotlib.lines.Line2D at 0x1273137b8>],\n",
       " 'fliers': [<matplotlib.lines.Line2D at 0x127313b00>],\n",
       " 'means': []}"
      ]
     },
     "execution_count": 62,
     "metadata": {},
     "output_type": "execute_result"
    },
    {
     "data": {
      "image/png": "[encoded data removed]",
      "text/plain": [
       "<Figure size 432x288 with 1 Axes>"
      ]
     },
     "metadata": {
      "needs_background": "light"
     },
     "output_type": "display_data"
    }
   ],
   "source": [
    "plt.boxplot(data[~((data < (Q1 - 1.5 * IQR)) | (data > (Q3 + 1.5 * IQR))).any(axis=1)]['income'])"
   ]
  },
  {
   "cell_type": "markdown",
   "metadata": {},
   "source": [
    "### Checking for Missing Values"
   ]
  },
  {
   "cell_type": "code",
   "execution_count": 63,
   "metadata": {},
   "outputs": [
    {
     "data": {
      "text/plain": [
       "child_mort    0.0\n",
       "exports       0.0\n",
       "health        0.0\n",
       "imports       0.0\n",
       "income        0.0\n",
       "inflation     0.0\n",
       "life_expec    0.0\n",
       "total_fer     0.0\n",
       "gdpp          0.0\n",
       "dtype: float64"
      ]
     },
     "execution_count": 63,
     "metadata": {},
     "output_type": "execute_result"
    }
   ],
   "source": [
    "# Checking the percentage of missing values\n",
    "round(100 * (data.isnull().sum() / len(data.index)), 2)"
   ]
  },
  {
   "cell_type": "markdown",
   "metadata": {},
   "source": [
    "There are no missing values"
   ]
  },
  {
   "cell_type": "markdown",
   "metadata": {},
   "source": [
    "# Scale the Data"
   ]
  },
  {
   "cell_type": "code",
   "execution_count": 64,
   "metadata": {},
   "outputs": [
    {
     "data": {
      "text/plain": [
       "array([[ 1.30973967, -1.22771955,  0.25921146, -0.06966572, -0.86556086],\n",
       "       [-0.54068249, -0.49371339, -0.119102  ,  0.09817422, -0.37281866],\n",
       "       [-0.27166731, -0.06962093, -0.99326321, -0.68205468, -0.1969239 ],\n",
       "       [ 2.03381791,  0.90497615, -1.47809211, -0.16039001, -0.61149066],\n",
       "       [-0.6990746 ,  0.21990372, -0.31009521,  0.56540431,  0.17026379]])"
      ]
     },
     "execution_count": 64,
     "metadata": {},
     "output_type": "execute_result"
    }
   ],
   "source": [
    "scaler = StandardScaler()\n",
    "\n",
    "X = data.copy()\n",
    "x = scaler.fit_transform(X)\n",
    "\n",
    "x[:5,:5]"
   ]
  },
  {
   "cell_type": "markdown",
   "metadata": {},
   "source": [
    "# Applying PCA"
   ]
  },
  {
   "cell_type": "code",
   "execution_count": 65,
   "metadata": {},
   "outputs": [
    {
     "data": {
      "text/plain": [
       "PCA(copy=True, iterated_power='auto', n_components=None, random_state=42,\n",
       "    svd_solver='auto', tol=0.0, whiten=False)"
      ]
     },
     "execution_count": 65,
     "metadata": {},
     "output_type": "execute_result"
    }
   ],
   "source": [
    "pca = PCA(random_state=42)\n",
    "pca.fit(x)"
   ]
  },
  {
   "cell_type": "code",
   "execution_count": 66,
   "metadata": {},
   "outputs": [
    {
     "data": {
      "text/plain": [
       "array([[-0.41707142,  0.26416786,  0.18768908,  0.13037811,  0.41046939,\n",
       "        -0.19325685,  0.42525158, -0.4006349 ,  0.39605627],\n",
       "       [ 0.16626965,  0.60959466, -0.14025508,  0.71387142, -0.01780182,\n",
       "        -0.06583848, -0.2178763 ,  0.13068815, -0.04757916],\n",
       "       [-0.17969762,  0.23818157, -0.67428713, -0.17159462,  0.1205389 ,\n",
       "         0.60477777,  0.15830297, -0.11626924, -0.08947802],\n",
       "       [ 0.34764414,  0.09856524,  0.19229972, -0.17589757,  0.47140389,\n",
       "         0.33594745, -0.18172433,  0.38900432,  0.531111  ],\n",
       "       [-0.18183315, -0.01302907,  0.60352928,  0.2518542 , -0.19656821,\n",
       "         0.67595776,  0.05069234, -0.10140126, -0.17515404],\n",
       "       [ 0.21153109, -0.04075914,  0.00361447, -0.05029309,  0.15419872,\n",
       "         0.05496542, -0.60272783, -0.74866795,  0.02162972],\n",
       "       [-0.06947963, -0.68136406, -0.28952827,  0.57355282,  0.08180463,\n",
       "         0.11899188,  0.00187661,  0.01061626,  0.31170314],\n",
       "       [ 0.72455736,  0.01039262, -0.0157946 ,  0.05284916, -0.22675875,\n",
       "         0.06673753,  0.5639029 , -0.29199597,  0.11289181],\n",
       "       [ 0.19400685, -0.16114614,  0.07157004,  0.12364732,  0.68841767,\n",
       "        -0.03387008,  0.17253087,  0.03753818, -0.64010956]])"
      ]
     },
     "execution_count": 66,
     "metadata": {},
     "output_type": "execute_result"
    }
   ],
   "source": [
    "# The new basis\n",
    "pca.components_"
   ]
  },
  {
   "cell_type": "code",
   "execution_count": 67,
   "metadata": {},
   "outputs": [
    {
     "data": {
      "text/plain": [
       "array([0.46176255, 0.1699294 , 0.13516563, 0.10906535, 0.06795329,\n",
       "       0.0254524 , 0.01460331, 0.00919995, 0.00686812])"
      ]
     },
     "execution_count": 67,
     "metadata": {},
     "output_type": "execute_result"
    }
   ],
   "source": [
    "# How much variance is being explained by each Principal Component\n",
    "pca.explained_variance_ratio_"
   ]
  },
  {
   "cell_type": "code",
   "execution_count": 68,
   "metadata": {},
   "outputs": [
    {
     "data": {
      "text/plain": [
       "<BarContainer object of 9 artists>"
      ]
     },
     "execution_count": 68,
     "metadata": {},
     "output_type": "execute_result"
    },
    {
     "data": {
      "image/png": "[encoded data removed]",
      "text/plain": [
       "<Figure size 432x288 with 1 Axes>"
      ]
     },
     "metadata": {
      "needs_background": "light"
     },
     "output_type": "display_data"
    }
   ],
   "source": [
    "plt.bar(range(1, len(pca.explained_variance_ratio_) + 1), pca.explained_variance_ratio_)"
   ]
  },
  {
   "cell_type": "markdown",
   "metadata": {},
   "source": [
    "The first PC, i.e. Principal Component 1 explains the maximum information (46%) in the dataset followed by PC2 at 17% and PC3 at 13%."
   ]
  },
  {
   "cell_type": "markdown",
   "metadata": {},
   "source": [
    "### Scree Plot"
   ]
  },
  {
   "cell_type": "code",
   "execution_count": 69,
   "metadata": {},
   "outputs": [
    {
     "data": {
      "text/plain": [
       "[<matplotlib.lines.Line2D at 0x1274b0588>]"
      ]
     },
     "execution_count": 69,
     "metadata": {},
     "output_type": "execute_result"
    },
    {
     "data": {
      "image/png": "[encoded data removed]",
      "text/plain": [
       "<Figure size 432x288 with 1 Axes>"
      ]
     },
     "metadata": {
      "needs_background": "light"
     },
     "output_type": "display_data"
    }
   ],
   "source": [
    "var_cumu = np.cumsum(pca.explained_variance_ratio_)\n",
    "plt.plot(range(1, len(var_cumu) + 1), var_cumu)"
   ]
  },
  {
   "cell_type": "markdown",
   "metadata": {},
   "source": [
    "Cumulative variance explained by the top 4 principal components is the sum of their individual variances, given by 46 + 17 + 13 + 11 = 87%"
   ]
  },
  {
   "cell_type": "markdown",
   "metadata": {},
   "source": [
    "# PCA with 4 Components"
   ]
  },
  {
   "cell_type": "code",
   "execution_count": 70,
   "metadata": {},
   "outputs": [],
   "source": [
    "pc2 = PCA(n_components=4, random_state=42)\n",
    "new_data = pc2.fit_transform(x)"
   ]
  },
  {
   "cell_type": "code",
   "execution_count": 71,
   "metadata": {},
   "outputs": [
    {
     "data": {
      "text/plain": [
       "(164, 4)"
      ]
     },
     "execution_count": 71,
     "metadata": {},
     "output_type": "execute_result"
    }
   ],
   "source": [
    "# Only 5 columns instead of 9\n",
    "new_data.shape"
   ]
  },
  {
   "cell_type": "code",
   "execution_count": 72,
   "metadata": {},
   "outputs": [
    {
     "data": {
      "text/plain": [
       "<matplotlib.axes._subplots.AxesSubplot at 0x127558128>"
      ]
     },
     "execution_count": 72,
     "metadata": {},
     "output_type": "execute_result"
    },
    {
     "data": {
      "image/png": "[encoded data removed]",
      "text/plain": [
       "<Figure size 432x288 with 2 Axes>"
      ]
     },
     "metadata": {
      "needs_background": "light"
     },
     "output_type": "display_data"
    }
   ],
   "source": [
    "corrmat = np.corrcoef(new_data.transpose())\n",
    "sns.heatmap(corrmat, annot=True)"
   ]
  },
  {
   "cell_type": "code",
   "execution_count": 73,
   "metadata": {},
   "outputs": [
    {
     "data": {
      "text/html": [
       "<div>\n",
       "<style scoped>\n",
       "    .dataframe tbody tr th:only-of-type {\n",
       "        vertical-align: middle;\n",
       "    }\n",
       "\n",
       "    .dataframe tbody tr th {\n",
       "        vertical-align: top;\n",
       "    }\n",
       "\n",
       "    .dataframe thead th {\n",
       "        text-align: right;\n",
       "    }\n",
       "</style>\n",
       "<table border=\"1\" class=\"dataframe\">\n",
       "  <thead>\n",
       "    <tr style=\"text-align: right;\">\n",
       "      <th></th>\n",
       "      <th>pc1</th>\n",
       "      <th>pc2</th>\n",
       "      <th>pc3</th>\n",
       "      <th>pc4</th>\n",
       "    </tr>\n",
       "  </thead>\n",
       "  <tbody>\n",
       "    <tr>\n",
       "      <th>0</th>\n",
       "      <td>-2.966365</td>\n",
       "      <td>0.014543</td>\n",
       "      <td>-1.036420</td>\n",
       "      <td>0.768485</td>\n",
       "    </tr>\n",
       "    <tr>\n",
       "      <th>1</th>\n",
       "      <td>0.442288</td>\n",
       "      <td>-0.507039</td>\n",
       "      <td>0.022429</td>\n",
       "      <td>-1.284641</td>\n",
       "    </tr>\n",
       "    <tr>\n",
       "      <th>2</th>\n",
       "      <td>-0.365026</td>\n",
       "      <td>-0.641205</td>\n",
       "      <td>1.663468</td>\n",
       "      <td>-0.247008</td>\n",
       "    </tr>\n",
       "    <tr>\n",
       "      <th>3</th>\n",
       "      <td>-3.109768</td>\n",
       "      <td>1.420818</td>\n",
       "      <td>1.634979</td>\n",
       "      <td>1.711483</td>\n",
       "    </tr>\n",
       "    <tr>\n",
       "      <th>4</th>\n",
       "      <td>1.101124</td>\n",
       "      <td>0.286844</td>\n",
       "      <td>0.019053</td>\n",
       "      <td>-0.911061</td>\n",
       "    </tr>\n",
       "  </tbody>\n",
       "</table>\n",
       "</div>"
      ],
      "text/plain": [
       "        pc1       pc2       pc3       pc4\n",
       "0 -2.966365  0.014543 -1.036420  0.768485\n",
       "1  0.442288 -0.507039  0.022429 -1.284641\n",
       "2 -0.365026 -0.641205  1.663468 -0.247008\n",
       "3 -3.109768  1.420818  1.634979  1.711483\n",
       "4  1.101124  0.286844  0.019053 -0.911061"
      ]
     },
     "execution_count": 73,
     "metadata": {},
     "output_type": "execute_result"
    }
   ],
   "source": [
    "# Convert to DF for convenience\n",
    "df = pd.DataFrame(new_data, columns=['pc1', 'pc2', 'pc3', 'pc4'])\n",
    "df.head()"
   ]
  },
  {
   "cell_type": "code",
   "execution_count": 74,
   "metadata": {},
   "outputs": [
    {
     "data": {
      "text/html": [
       "<div>\n",
       "<style scoped>\n",
       "    .dataframe tbody tr th:only-of-type {\n",
       "        vertical-align: middle;\n",
       "    }\n",
       "\n",
       "    .dataframe tbody tr th {\n",
       "        vertical-align: top;\n",
       "    }\n",
       "\n",
       "    .dataframe thead th {\n",
       "        text-align: right;\n",
       "    }\n",
       "</style>\n",
       "<table border=\"1\" class=\"dataframe\">\n",
       "  <thead>\n",
       "    <tr style=\"text-align: right;\">\n",
       "      <th></th>\n",
       "      <th>pc1</th>\n",
       "      <th>pc2</th>\n",
       "      <th>pc3</th>\n",
       "      <th>pc4</th>\n",
       "      <th>country</th>\n",
       "    </tr>\n",
       "  </thead>\n",
       "  <tbody>\n",
       "    <tr>\n",
       "      <th>0</th>\n",
       "      <td>-2.966365</td>\n",
       "      <td>0.014543</td>\n",
       "      <td>-1.036420</td>\n",
       "      <td>0.768485</td>\n",
       "      <td>Afghanistan</td>\n",
       "    </tr>\n",
       "    <tr>\n",
       "      <th>1</th>\n",
       "      <td>0.442288</td>\n",
       "      <td>-0.507039</td>\n",
       "      <td>0.022429</td>\n",
       "      <td>-1.284641</td>\n",
       "      <td>Albania</td>\n",
       "    </tr>\n",
       "    <tr>\n",
       "      <th>2</th>\n",
       "      <td>-0.365026</td>\n",
       "      <td>-0.641205</td>\n",
       "      <td>1.663468</td>\n",
       "      <td>-0.247008</td>\n",
       "      <td>Algeria</td>\n",
       "    </tr>\n",
       "    <tr>\n",
       "      <th>3</th>\n",
       "      <td>-3.109768</td>\n",
       "      <td>1.420818</td>\n",
       "      <td>1.634979</td>\n",
       "      <td>1.711483</td>\n",
       "      <td>Angola</td>\n",
       "    </tr>\n",
       "    <tr>\n",
       "      <th>4</th>\n",
       "      <td>1.101124</td>\n",
       "      <td>0.286844</td>\n",
       "      <td>0.019053</td>\n",
       "      <td>-0.911061</td>\n",
       "      <td>Antigua and Barbuda</td>\n",
       "    </tr>\n",
       "  </tbody>\n",
       "</table>\n",
       "</div>"
      ],
      "text/plain": [
       "        pc1       pc2       pc3       pc4              country\n",
       "0 -2.966365  0.014543 -1.036420  0.768485          Afghanistan\n",
       "1  0.442288 -0.507039  0.022429 -1.284641              Albania\n",
       "2 -0.365026 -0.641205  1.663468 -0.247008              Algeria\n",
       "3 -3.109768  1.420818  1.634979  1.711483               Angola\n",
       "4  1.101124  0.286844  0.019053 -0.911061  Antigua and Barbuda"
      ]
     },
     "execution_count": 74,
     "metadata": {},
     "output_type": "execute_result"
    }
   ],
   "source": [
    "# PC with classes\n",
    "df_final = pd.concat([df, y], axis=1)\n",
    "df_final.head()"
   ]
  },
  {
   "cell_type": "markdown",
   "metadata": {},
   "source": [
    "# Clustering\n",
    "### Hopkins Statistics"
   ]
  },
  {
   "cell_type": "code",
   "execution_count": 75,
   "metadata": {},
   "outputs": [],
   "source": [
    "def hopkins(X):\n",
    "    d = X.shape[1]\n",
    "    n = len(X) # rows\n",
    "    m = int(0.1 * n) \n",
    "    nbrs = NearestNeighbors(n_neighbors=1).fit(X.values)\n",
    " \n",
    "    rand_X = sample(range(0, n, 1), m)\n",
    " \n",
    "    ujd = []\n",
    "    wjd = []\n",
    "    for j in range(0, m):\n",
    "        u_dist, _ = nbrs.kneighbors(uniform(np.amin(X,axis=0),np.amax(X,axis=0),d).reshape(1, -1), 2, return_distance=True)\n",
    "        ujd.append(u_dist[0][1])\n",
    "        w_dist, _ = nbrs.kneighbors(X.iloc[rand_X[j]].values.reshape(1, -1), 2, return_distance=True)\n",
    "        wjd.append(w_dist[0][1])\n",
    " \n",
    "    H = sum(ujd) / (sum(ujd) + sum(wjd))\n",
    "    if isnan(H):\n",
    "        print(ujd, wjd)\n",
    "        H = 0\n",
    " \n",
    "    return H"
   ]
  },
  {
   "cell_type": "code",
   "execution_count": 76,
   "metadata": {},
   "outputs": [
    {
     "data": {
      "text/plain": [
       "0.7978329158759434"
      ]
     },
     "execution_count": 76,
     "metadata": {},
     "output_type": "execute_result"
    }
   ],
   "source": [
    "hopkins(df)"
   ]
  },
  {
   "cell_type": "markdown",
   "metadata": {},
   "source": [
    "# Modelling"
   ]
  },
  {
   "cell_type": "markdown",
   "metadata": {},
   "source": [
    "### Finding optimal number of clusters"
   ]
  },
  {
   "cell_type": "markdown",
   "metadata": {},
   "source": [
    "##### Elbow-curve or Sum of Squared distances (SSD)"
   ]
  },
  {
   "cell_type": "code",
   "execution_count": 77,
   "metadata": {},
   "outputs": [],
   "source": [
    "range_n_clusters = [2, 3, 4, 5, 6, 7, 8]"
   ]
  },
  {
   "cell_type": "code",
   "execution_count": 78,
   "metadata": {},
   "outputs": [
    {
     "data": {
      "text/plain": [
       "[<matplotlib.lines.Line2D at 0x127718550>]"
      ]
     },
     "execution_count": 78,
     "metadata": {},
     "output_type": "execute_result"
    },
    {
     "data": {
      "image/png": "[encoded data removed]",
      "text/plain": [
       "<Figure size 432x288 with 1 Axes>"
      ]
     },
     "metadata": {
      "needs_background": "light"
     },
     "output_type": "display_data"
    }
   ],
   "source": [
    "ssd = []\n",
    "for num_cluster in range_n_clusters:\n",
    "    kmeans = KMeans(n_clusters=num_cluster, max_iter=50)\n",
    "    kmeans.fit(df)\n",
    "    ssd.append(kmeans.inertia_)\n",
    "    \n",
    "# Plot the SSDs for each n number of clusters\n",
    "plt.plot(ssd)"
   ]
  },
  {
   "cell_type": "markdown",
   "metadata": {},
   "source": [
    "##### Silhouette Analysis"
   ]
  },
  {
   "cell_type": "code",
   "execution_count": 79,
   "metadata": {},
   "outputs": [
    {
     "name": "stdout",
     "output_type": "stream",
     "text": [
      "For 2 clusters, silhouette score is 0.31651552968059704\n",
      "For 3 clusters, silhouette score is 0.32301516564028715\n",
      "For 4 clusters, silhouette score is 0.28914216969675627\n",
      "For 5 clusters, silhouette score is 0.3072148593600267\n",
      "For 6 clusters, silhouette score is 0.29716201497996814\n",
      "For 7 clusters, silhouette score is 0.29050353054797395\n",
      "For 8 clusters, silhouette score is 0.269560213712501\n"
     ]
    }
   ],
   "source": [
    "for num_cluster in range_n_clusters:\n",
    "    kmeans = KMeans(n_clusters=num_cluster, max_iter=50)\n",
    "    kmeans.fit(df)\n",
    "    \n",
    "    cluster_labels = kmeans.labels_\n",
    "    \n",
    "    silhouette_avg = silhouette_score(df, cluster_labels)\n",
    "    print(f'For {num_cluster} clusters, silhouette score is {silhouette_avg}')"
   ]
  },
  {
   "cell_type": "markdown",
   "metadata": {},
   "source": [
    "# Hierarchical Clustering"
   ]
  },
  {
   "cell_type": "markdown",
   "metadata": {},
   "source": [
    "### Single Linkage"
   ]
  },
  {
   "cell_type": "code",
   "execution_count": 80,
   "metadata": {},
   "outputs": [],
   "source": [
    "mergings = linkage(df, method='single', metric='euclidean')"
   ]
  },
  {
   "cell_type": "code",
   "execution_count": 81,
   "metadata": {},
   "outputs": [
    {
     "data": {
      "text/plain": [
       "array([0, 0, 0, 0, 0, 0, 0, 0, 0, 0, 0, 0, 0, 0, 0, 0, 0, 0, 0, 0, 0, 0,\n",
       "       0, 0, 0, 0, 0, 0, 0, 0, 0, 0, 0, 0, 0, 0, 0, 0, 0, 0, 0, 0, 0, 0,\n",
       "       0, 0, 0, 0, 0, 0, 0, 0, 0, 0, 0, 0, 0, 0, 0, 0, 0, 0, 0, 0, 0, 0,\n",
       "       0, 0, 0, 0, 0, 0, 0, 0, 0, 0, 0, 0, 0, 0, 0, 0, 0, 0, 0, 0, 0, 0,\n",
       "       0, 0, 0, 1, 0, 0, 0, 0, 0, 0, 2, 0, 0, 0, 0, 0, 0, 0, 0, 0, 0, 0,\n",
       "       0, 0, 0, 0, 0, 0, 0, 0, 0, 0, 0, 0, 0, 0, 0, 0, 0, 0, 0, 0, 0, 0,\n",
       "       0, 0, 0, 0, 0, 0, 0, 0, 0, 0, 0, 0, 0, 0, 0, 0, 0, 0, 0, 0, 0, 0,\n",
       "       0, 0, 0, 0, 0, 0, 3, 0, 0, 0])"
      ]
     },
     "execution_count": 81,
     "metadata": {},
     "output_type": "execute_result"
    }
   ],
   "source": [
    "cluster_labels = cut_tree(mergings, n_clusters=4).reshape(-1,)\n",
    "cluster_labels"
   ]
  },
  {
   "cell_type": "code",
   "execution_count": 82,
   "metadata": {},
   "outputs": [
    {
     "data": {
      "text/html": [
       "<div>\n",
       "<style scoped>\n",
       "    .dataframe tbody tr th:only-of-type {\n",
       "        vertical-align: middle;\n",
       "    }\n",
       "\n",
       "    .dataframe tbody tr th {\n",
       "        vertical-align: top;\n",
       "    }\n",
       "\n",
       "    .dataframe thead th {\n",
       "        text-align: right;\n",
       "    }\n",
       "</style>\n",
       "<table border=\"1\" class=\"dataframe\">\n",
       "  <thead>\n",
       "    <tr style=\"text-align: right;\">\n",
       "      <th></th>\n",
       "      <th>pc1</th>\n",
       "      <th>pc2</th>\n",
       "      <th>pc3</th>\n",
       "      <th>pc4</th>\n",
       "      <th>cluster_id</th>\n",
       "      <th>country</th>\n",
       "    </tr>\n",
       "  </thead>\n",
       "  <tbody>\n",
       "    <tr>\n",
       "      <th>0</th>\n",
       "      <td>-2.966365</td>\n",
       "      <td>0.014543</td>\n",
       "      <td>-1.036420</td>\n",
       "      <td>0.768485</td>\n",
       "      <td>0</td>\n",
       "      <td>Afghanistan</td>\n",
       "    </tr>\n",
       "    <tr>\n",
       "      <th>1</th>\n",
       "      <td>0.442288</td>\n",
       "      <td>-0.507039</td>\n",
       "      <td>0.022429</td>\n",
       "      <td>-1.284641</td>\n",
       "      <td>0</td>\n",
       "      <td>Albania</td>\n",
       "    </tr>\n",
       "    <tr>\n",
       "      <th>2</th>\n",
       "      <td>-0.365026</td>\n",
       "      <td>-0.641205</td>\n",
       "      <td>1.663468</td>\n",
       "      <td>-0.247008</td>\n",
       "      <td>0</td>\n",
       "      <td>Algeria</td>\n",
       "    </tr>\n",
       "    <tr>\n",
       "      <th>3</th>\n",
       "      <td>-3.109768</td>\n",
       "      <td>1.420818</td>\n",
       "      <td>1.634979</td>\n",
       "      <td>1.711483</td>\n",
       "      <td>0</td>\n",
       "      <td>Angola</td>\n",
       "    </tr>\n",
       "    <tr>\n",
       "      <th>4</th>\n",
       "      <td>1.101124</td>\n",
       "      <td>0.286844</td>\n",
       "      <td>0.019053</td>\n",
       "      <td>-0.911061</td>\n",
       "      <td>0</td>\n",
       "      <td>Antigua and Barbuda</td>\n",
       "    </tr>\n",
       "  </tbody>\n",
       "</table>\n",
       "</div>"
      ],
      "text/plain": [
       "        pc1       pc2       pc3       pc4  cluster_id              country\n",
       "0 -2.966365  0.014543 -1.036420  0.768485           0          Afghanistan\n",
       "1  0.442288 -0.507039  0.022429 -1.284641           0              Albania\n",
       "2 -0.365026 -0.641205  1.663468 -0.247008           0              Algeria\n",
       "3 -3.109768  1.420818  1.634979  1.711483           0               Angola\n",
       "4  1.101124  0.286844  0.019053 -0.911061           0  Antigua and Barbuda"
      ]
     },
     "execution_count": 82,
     "metadata": {},
     "output_type": "execute_result"
    }
   ],
   "source": [
    "# Assign cluster labels\n",
    "final_df = df.copy()\n",
    "final_df['cluster_id'] = cluster_labels\n",
    "final_df['country'] = y\n",
    "final_df.head()"
   ]
  },
  {
   "cell_type": "code",
   "execution_count": 83,
   "metadata": {},
   "outputs": [
    {
     "data": {
      "text/plain": [
       "{0: ['Afghanistan',\n",
       "  'Albania',\n",
       "  'Algeria',\n",
       "  'Angola',\n",
       "  'Antigua and Barbuda',\n",
       "  'Argentina',\n",
       "  'Armenia',\n",
       "  'Australia',\n",
       "  'Austria',\n",
       "  'Azerbaijan',\n",
       "  'Bahamas',\n",
       "  'Bahrain',\n",
       "  'Bangladesh',\n",
       "  'Barbados',\n",
       "  'Belarus',\n",
       "  'Belgium',\n",
       "  'Belize',\n",
       "  'Benin',\n",
       "  'Bhutan',\n",
       "  'Bolivia',\n",
       "  'Bosnia and Herzegovina',\n",
       "  'Botswana',\n",
       "  'Brazil',\n",
       "  'Brunei',\n",
       "  'Bulgaria',\n",
       "  'Burkina Faso',\n",
       "  'Burundi',\n",
       "  'Cambodia',\n",
       "  'Cameroon',\n",
       "  'Canada',\n",
       "  'Cape Verde',\n",
       "  'Central African Republic',\n",
       "  'Chad',\n",
       "  'Chile',\n",
       "  'China',\n",
       "  'Colombia',\n",
       "  'Comoros',\n",
       "  'Congo, Dem. Rep.',\n",
       "  'Congo, Rep.',\n",
       "  'Costa Rica',\n",
       "  \"Cote d'Ivoire\",\n",
       "  'Croatia',\n",
       "  'Cyprus',\n",
       "  'Czech Republic',\n",
       "  'Denmark',\n",
       "  'Dominican Republic',\n",
       "  'Ecuador',\n",
       "  'Egypt',\n",
       "  'El Salvador',\n",
       "  'Equatorial Guinea',\n",
       "  'Eritrea',\n",
       "  'Estonia',\n",
       "  'Fiji',\n",
       "  'Finland',\n",
       "  'France',\n",
       "  'Gabon',\n",
       "  'Gambia',\n",
       "  'Georgia',\n",
       "  'Germany',\n",
       "  'Ghana',\n",
       "  'Greece',\n",
       "  'Grenada',\n",
       "  'Guatemala',\n",
       "  'Guinea',\n",
       "  'Guinea-Bissau',\n",
       "  'Guyana',\n",
       "  'Haiti',\n",
       "  'Hungary',\n",
       "  'Iceland',\n",
       "  'India',\n",
       "  'Indonesia',\n",
       "  'Iran',\n",
       "  'Iraq',\n",
       "  'Ireland',\n",
       "  'Israel',\n",
       "  'Italy',\n",
       "  'Jamaica',\n",
       "  'Japan',\n",
       "  'Jordan',\n",
       "  'Kazakhstan',\n",
       "  'Kenya',\n",
       "  'Kiribati',\n",
       "  'Kuwait',\n",
       "  'Kyrgyz Republic',\n",
       "  'Lao',\n",
       "  'Latvia',\n",
       "  'Lebanon',\n",
       "  'Lesotho',\n",
       "  'Liberia',\n",
       "  'Libya',\n",
       "  'Lithuania',\n",
       "  'Macedonia, FYR',\n",
       "  'Madagascar',\n",
       "  'Malawi',\n",
       "  'Malaysia',\n",
       "  'Maldives',\n",
       "  'Mali',\n",
       "  'Mauritania',\n",
       "  'Mauritius',\n",
       "  'Micronesia, Fed. Sts.',\n",
       "  'Moldova',\n",
       "  'Mongolia',\n",
       "  'Montenegro',\n",
       "  'Morocco',\n",
       "  'Mozambique',\n",
       "  'Myanmar',\n",
       "  'Namibia',\n",
       "  'Nepal',\n",
       "  'Netherlands',\n",
       "  'New Zealand',\n",
       "  'Niger',\n",
       "  'Nigeria',\n",
       "  'Norway',\n",
       "  'Oman',\n",
       "  'Pakistan',\n",
       "  'Panama',\n",
       "  'Paraguay',\n",
       "  'Peru',\n",
       "  'Philippines',\n",
       "  'Poland',\n",
       "  'Portugal',\n",
       "  'Qatar',\n",
       "  'Romania',\n",
       "  'Russia',\n",
       "  'Rwanda',\n",
       "  'Samoa',\n",
       "  'Saudi Arabia',\n",
       "  'Senegal',\n",
       "  'Serbia',\n",
       "  'Seychelles',\n",
       "  'Sierra Leone',\n",
       "  'Singapore',\n",
       "  'Slovak Republic',\n",
       "  'Slovenia',\n",
       "  'Solomon Islands',\n",
       "  'South Africa',\n",
       "  'South Korea',\n",
       "  'Spain',\n",
       "  'Sri Lanka',\n",
       "  'St. Vincent and the Grenadines',\n",
       "  'Sudan',\n",
       "  'Suriname',\n",
       "  'Sweden',\n",
       "  'Switzerland',\n",
       "  'Tajikistan',\n",
       "  'Tanzania',\n",
       "  'Thailand',\n",
       "  'Timor-Leste',\n",
       "  'Togo',\n",
       "  'Tonga',\n",
       "  'Tunisia',\n",
       "  'Turkey',\n",
       "  'Turkmenistan',\n",
       "  'Uganda',\n",
       "  'Ukraine',\n",
       "  'United Arab Emirates',\n",
       "  'United Kingdom',\n",
       "  'United States',\n",
       "  'Uzbekistan',\n",
       "  'Vanuatu',\n",
       "  'Venezuela'],\n",
       " 1: ['Luxembourg'],\n",
       " 2: ['Malta'],\n",
       " 3: ['Uruguay']}"
      ]
     },
     "execution_count": 83,
     "metadata": {},
     "output_type": "execute_result"
    }
   ],
   "source": [
    "cluster_dict = {}\n",
    "\n",
    "for cluster_id in final_df['cluster_id'].unique():\n",
    "    cluster_countries = list(final_df[final_df['cluster_id'] == cluster_id]['country'])\n",
    "    cluster_dict[cluster_id] = cluster_countries\n",
    "\n",
    "cluster_dict"
   ]
  },
  {
   "cell_type": "markdown",
   "metadata": {},
   "source": [
    "### Complete Linkage"
   ]
  },
  {
   "cell_type": "code",
   "execution_count": 84,
   "metadata": {},
   "outputs": [],
   "source": [
    "mergings = linkage(df, method='complete', metric='euclidean')"
   ]
  },
  {
   "cell_type": "code",
   "execution_count": 85,
   "metadata": {},
   "outputs": [
    {
     "data": {
      "text/plain": [
       "array([0, 0, 0, 0, 1, 0, 0, 1, 1, 0, 1, 1, 0, 1, 1, 1, 1, 0, 1, 0, 1, 0,\n",
       "       0, 1, 1, 0, 0, 1, 0, 1, 1, 0, 0, 0, 0, 0, 0, 0, 0, 1, 0, 1, 1, 1,\n",
       "       1, 0, 0, 0, 1, 0, 0, 1, 1, 1, 1, 0, 0, 1, 1, 0, 1, 1, 0, 0, 0, 1,\n",
       "       0, 1, 1, 0, 0, 0, 0, 1, 1, 1, 0, 1, 1, 0, 0, 0, 1, 1, 0, 1, 1, 0,\n",
       "       0, 1, 1, 2, 1, 0, 0, 1, 1, 0, 3, 0, 1, 0, 1, 0, 1, 1, 0, 0, 0, 0,\n",
       "       1, 1, 0, 1, 1, 0, 1, 1, 0, 0, 1, 1, 0, 0, 0, 0, 1, 0, 1, 3, 0, 1,\n",
       "       1, 0, 0, 1, 1, 0, 1, 0, 1, 1, 1, 0, 0, 1, 0, 0, 0, 1, 0, 1, 0, 1,\n",
       "       1, 1, 1, 0, 0, 1, 0, 1, 0, 0])"
      ]
     },
     "execution_count": 85,
     "metadata": {},
     "output_type": "execute_result"
    }
   ],
   "source": [
    "cluster_labels = cut_tree(mergings, n_clusters=4).reshape(-1,)\n",
    "cluster_labels"
   ]
  },
  {
   "cell_type": "code",
   "execution_count": 86,
   "metadata": {},
   "outputs": [
    {
     "data": {
      "text/html": [
       "<div>\n",
       "<style scoped>\n",
       "    .dataframe tbody tr th:only-of-type {\n",
       "        vertical-align: middle;\n",
       "    }\n",
       "\n",
       "    .dataframe tbody tr th {\n",
       "        vertical-align: top;\n",
       "    }\n",
       "\n",
       "    .dataframe thead th {\n",
       "        text-align: right;\n",
       "    }\n",
       "</style>\n",
       "<table border=\"1\" class=\"dataframe\">\n",
       "  <thead>\n",
       "    <tr style=\"text-align: right;\">\n",
       "      <th></th>\n",
       "      <th>pc1</th>\n",
       "      <th>pc2</th>\n",
       "      <th>pc3</th>\n",
       "      <th>pc4</th>\n",
       "      <th>cluster_id</th>\n",
       "      <th>country</th>\n",
       "    </tr>\n",
       "  </thead>\n",
       "  <tbody>\n",
       "    <tr>\n",
       "      <th>0</th>\n",
       "      <td>-2.966365</td>\n",
       "      <td>0.014543</td>\n",
       "      <td>-1.036420</td>\n",
       "      <td>0.768485</td>\n",
       "      <td>0</td>\n",
       "      <td>Afghanistan</td>\n",
       "    </tr>\n",
       "    <tr>\n",
       "      <th>1</th>\n",
       "      <td>0.442288</td>\n",
       "      <td>-0.507039</td>\n",
       "      <td>0.022429</td>\n",
       "      <td>-1.284641</td>\n",
       "      <td>0</td>\n",
       "      <td>Albania</td>\n",
       "    </tr>\n",
       "    <tr>\n",
       "      <th>2</th>\n",
       "      <td>-0.365026</td>\n",
       "      <td>-0.641205</td>\n",
       "      <td>1.663468</td>\n",
       "      <td>-0.247008</td>\n",
       "      <td>0</td>\n",
       "      <td>Algeria</td>\n",
       "    </tr>\n",
       "    <tr>\n",
       "      <th>3</th>\n",
       "      <td>-3.109768</td>\n",
       "      <td>1.420818</td>\n",
       "      <td>1.634979</td>\n",
       "      <td>1.711483</td>\n",
       "      <td>0</td>\n",
       "      <td>Angola</td>\n",
       "    </tr>\n",
       "    <tr>\n",
       "      <th>4</th>\n",
       "      <td>1.101124</td>\n",
       "      <td>0.286844</td>\n",
       "      <td>0.019053</td>\n",
       "      <td>-0.911061</td>\n",
       "      <td>1</td>\n",
       "      <td>Antigua and Barbuda</td>\n",
       "    </tr>\n",
       "  </tbody>\n",
       "</table>\n",
       "</div>"
      ],
      "text/plain": [
       "        pc1       pc2       pc3       pc4  cluster_id              country\n",
       "0 -2.966365  0.014543 -1.036420  0.768485           0          Afghanistan\n",
       "1  0.442288 -0.507039  0.022429 -1.284641           0              Albania\n",
       "2 -0.365026 -0.641205  1.663468 -0.247008           0              Algeria\n",
       "3 -3.109768  1.420818  1.634979  1.711483           0               Angola\n",
       "4  1.101124  0.286844  0.019053 -0.911061           1  Antigua and Barbuda"
      ]
     },
     "execution_count": 86,
     "metadata": {},
     "output_type": "execute_result"
    }
   ],
   "source": [
    "# Assign cluster labels\n",
    "final_df = df.copy()\n",
    "final_df['cluster_id'] = cluster_labels\n",
    "final_df['country'] = y\n",
    "final_df.head()"
   ]
  },
  {
   "cell_type": "code",
   "execution_count": 87,
   "metadata": {},
   "outputs": [
    {
     "data": {
      "text/plain": [
       "{0: ['Afghanistan',\n",
       "  'Albania',\n",
       "  'Algeria',\n",
       "  'Angola',\n",
       "  'Argentina',\n",
       "  'Armenia',\n",
       "  'Azerbaijan',\n",
       "  'Bangladesh',\n",
       "  'Benin',\n",
       "  'Bolivia',\n",
       "  'Botswana',\n",
       "  'Brazil',\n",
       "  'Burkina Faso',\n",
       "  'Burundi',\n",
       "  'Cameroon',\n",
       "  'Central African Republic',\n",
       "  'Chad',\n",
       "  'Chile',\n",
       "  'China',\n",
       "  'Colombia',\n",
       "  'Comoros',\n",
       "  'Congo, Dem. Rep.',\n",
       "  'Congo, Rep.',\n",
       "  \"Cote d'Ivoire\",\n",
       "  'Dominican Republic',\n",
       "  'Ecuador',\n",
       "  'Egypt',\n",
       "  'Equatorial Guinea',\n",
       "  'Eritrea',\n",
       "  'Gabon',\n",
       "  'Gambia',\n",
       "  'Ghana',\n",
       "  'Guatemala',\n",
       "  'Guinea',\n",
       "  'Guinea-Bissau',\n",
       "  'Haiti',\n",
       "  'India',\n",
       "  'Indonesia',\n",
       "  'Iran',\n",
       "  'Iraq',\n",
       "  'Jamaica',\n",
       "  'Kazakhstan',\n",
       "  'Kenya',\n",
       "  'Kiribati',\n",
       "  'Lao',\n",
       "  'Lesotho',\n",
       "  'Liberia',\n",
       "  'Madagascar',\n",
       "  'Malawi',\n",
       "  'Mali',\n",
       "  'Mauritania',\n",
       "  'Micronesia, Fed. Sts.',\n",
       "  'Mongolia',\n",
       "  'Mozambique',\n",
       "  'Myanmar',\n",
       "  'Namibia',\n",
       "  'Nepal',\n",
       "  'Niger',\n",
       "  'Oman',\n",
       "  'Paraguay',\n",
       "  'Peru',\n",
       "  'Portugal',\n",
       "  'Qatar',\n",
       "  'Romania',\n",
       "  'Russia',\n",
       "  'Samoa',\n",
       "  'Serbia',\n",
       "  'Singapore',\n",
       "  'Slovak Republic',\n",
       "  'South Africa',\n",
       "  'Spain',\n",
       "  'Suriname',\n",
       "  'Sweden',\n",
       "  'Tajikistan',\n",
       "  'Tanzania',\n",
       "  'Thailand',\n",
       "  'Togo',\n",
       "  'Tunisia',\n",
       "  'United Arab Emirates',\n",
       "  'United Kingdom',\n",
       "  'Uruguay',\n",
       "  'Vanuatu',\n",
       "  'Venezuela'],\n",
       " 1: ['Antigua and Barbuda',\n",
       "  'Australia',\n",
       "  'Austria',\n",
       "  'Bahamas',\n",
       "  'Bahrain',\n",
       "  'Barbados',\n",
       "  'Belarus',\n",
       "  'Belgium',\n",
       "  'Belize',\n",
       "  'Bhutan',\n",
       "  'Bosnia and Herzegovina',\n",
       "  'Brunei',\n",
       "  'Bulgaria',\n",
       "  'Cambodia',\n",
       "  'Canada',\n",
       "  'Cape Verde',\n",
       "  'Costa Rica',\n",
       "  'Croatia',\n",
       "  'Cyprus',\n",
       "  'Czech Republic',\n",
       "  'Denmark',\n",
       "  'El Salvador',\n",
       "  'Estonia',\n",
       "  'Fiji',\n",
       "  'Finland',\n",
       "  'France',\n",
       "  'Georgia',\n",
       "  'Germany',\n",
       "  'Greece',\n",
       "  'Grenada',\n",
       "  'Guyana',\n",
       "  'Hungary',\n",
       "  'Iceland',\n",
       "  'Ireland',\n",
       "  'Israel',\n",
       "  'Italy',\n",
       "  'Japan',\n",
       "  'Jordan',\n",
       "  'Kuwait',\n",
       "  'Kyrgyz Republic',\n",
       "  'Latvia',\n",
       "  'Lebanon',\n",
       "  'Libya',\n",
       "  'Lithuania',\n",
       "  'Macedonia, FYR',\n",
       "  'Malaysia',\n",
       "  'Maldives',\n",
       "  'Mauritius',\n",
       "  'Moldova',\n",
       "  'Montenegro',\n",
       "  'Morocco',\n",
       "  'Netherlands',\n",
       "  'New Zealand',\n",
       "  'Nigeria',\n",
       "  'Norway',\n",
       "  'Pakistan',\n",
       "  'Panama',\n",
       "  'Philippines',\n",
       "  'Poland',\n",
       "  'Rwanda',\n",
       "  'Saudi Arabia',\n",
       "  'Seychelles',\n",
       "  'Sierra Leone',\n",
       "  'Slovenia',\n",
       "  'Solomon Islands',\n",
       "  'South Korea',\n",
       "  'Sri Lanka',\n",
       "  'St. Vincent and the Grenadines',\n",
       "  'Sudan',\n",
       "  'Switzerland',\n",
       "  'Timor-Leste',\n",
       "  'Tonga',\n",
       "  'Turkey',\n",
       "  'Turkmenistan',\n",
       "  'Uganda',\n",
       "  'Ukraine',\n",
       "  'United States',\n",
       "  'Uzbekistan'],\n",
       " 2: ['Luxembourg'],\n",
       " 3: ['Malta', 'Senegal']}"
      ]
     },
     "execution_count": 87,
     "metadata": {},
     "output_type": "execute_result"
    }
   ],
   "source": [
    "cluster_dict = {}\n",
    "\n",
    "for cluster_id in final_df['cluster_id'].unique():\n",
    "    cluster_countries = list(final_df[final_df['cluster_id'] == cluster_id]['country'])\n",
    "    cluster_dict[cluster_id] = cluster_countries\n",
    "\n",
    "cluster_dict"
   ]
  },
  {
   "cell_type": "markdown",
   "metadata": {},
   "source": [
    "# K-Means"
   ]
  },
  {
   "cell_type": "code",
   "execution_count": 88,
   "metadata": {},
   "outputs": [
    {
     "data": {
      "text/plain": [
       "KMeans(algorithm='auto', copy_x=True, init='k-means++', max_iter=50,\n",
       "       n_clusters=4, n_init=10, n_jobs=None, precompute_distances='auto',\n",
       "       random_state=None, tol=0.0001, verbose=0)"
      ]
     },
     "execution_count": 88,
     "metadata": {},
     "output_type": "execute_result"
    }
   ],
   "source": [
    "# K-means with some arbitrary K\n",
    "kmeans = KMeans(n_clusters=4, max_iter=50)\n",
    "kmeans.fit(df)"
   ]
  },
  {
   "cell_type": "code",
   "execution_count": 89,
   "metadata": {},
   "outputs": [
    {
     "data": {
      "text/plain": [
       "array([0, 2, 1, 0, 2, 1, 1, 3, 3, 1, 2, 2, 1, 2, 2, 3, 2, 0, 2, 1, 2, 0,\n",
       "       1, 3, 2, 0, 0, 2, 0, 3, 2, 0, 0, 1, 1, 1, 0, 0, 0, 2, 0, 2, 3, 2,\n",
       "       3, 1, 1, 1, 2, 0, 0, 2, 2, 3, 3, 1, 0, 2, 3, 0, 3, 2, 1, 0, 0, 2,\n",
       "       0, 2, 3, 1, 1, 1, 1, 3, 3, 3, 1, 3, 2, 1, 0, 0, 3, 2, 0, 2, 2, 0,\n",
       "       0, 1, 2, 3, 2, 0, 0, 2, 2, 0, 2, 0, 2, 2, 2, 1, 2, 2, 0, 1, 0, 1,\n",
       "       3, 3, 0, 3, 1, 0, 2, 2, 1, 1, 2, 3, 2, 1, 0, 2, 1, 0, 2, 2, 0, 2,\n",
       "       3, 2, 0, 2, 3, 1, 2, 0, 2, 3, 3, 1, 0, 2, 0, 0, 2, 2, 1, 2, 0, 2,\n",
       "       3, 3, 3, 1, 1, 2, 1, 2, 1, 0], dtype=int32)"
      ]
     },
     "execution_count": 89,
     "metadata": {},
     "output_type": "execute_result"
    }
   ],
   "source": [
    "kmeans.labels_"
   ]
  },
  {
   "cell_type": "code",
   "execution_count": 90,
   "metadata": {},
   "outputs": [
    {
     "data": {
      "text/html": [
       "<div>\n",
       "<style scoped>\n",
       "    .dataframe tbody tr th:only-of-type {\n",
       "        vertical-align: middle;\n",
       "    }\n",
       "\n",
       "    .dataframe tbody tr th {\n",
       "        vertical-align: top;\n",
       "    }\n",
       "\n",
       "    .dataframe thead th {\n",
       "        text-align: right;\n",
       "    }\n",
       "</style>\n",
       "<table border=\"1\" class=\"dataframe\">\n",
       "  <thead>\n",
       "    <tr style=\"text-align: right;\">\n",
       "      <th></th>\n",
       "      <th>pc1</th>\n",
       "      <th>pc2</th>\n",
       "      <th>pc3</th>\n",
       "      <th>pc4</th>\n",
       "      <th>cluster_id</th>\n",
       "      <th>country</th>\n",
       "    </tr>\n",
       "  </thead>\n",
       "  <tbody>\n",
       "    <tr>\n",
       "      <th>0</th>\n",
       "      <td>-2.966365</td>\n",
       "      <td>0.014543</td>\n",
       "      <td>-1.036420</td>\n",
       "      <td>0.768485</td>\n",
       "      <td>0</td>\n",
       "      <td>Afghanistan</td>\n",
       "    </tr>\n",
       "    <tr>\n",
       "      <th>1</th>\n",
       "      <td>0.442288</td>\n",
       "      <td>-0.507039</td>\n",
       "      <td>0.022429</td>\n",
       "      <td>-1.284641</td>\n",
       "      <td>2</td>\n",
       "      <td>Albania</td>\n",
       "    </tr>\n",
       "    <tr>\n",
       "      <th>2</th>\n",
       "      <td>-0.365026</td>\n",
       "      <td>-0.641205</td>\n",
       "      <td>1.663468</td>\n",
       "      <td>-0.247008</td>\n",
       "      <td>1</td>\n",
       "      <td>Algeria</td>\n",
       "    </tr>\n",
       "    <tr>\n",
       "      <th>3</th>\n",
       "      <td>-3.109768</td>\n",
       "      <td>1.420818</td>\n",
       "      <td>1.634979</td>\n",
       "      <td>1.711483</td>\n",
       "      <td>0</td>\n",
       "      <td>Angola</td>\n",
       "    </tr>\n",
       "    <tr>\n",
       "      <th>4</th>\n",
       "      <td>1.101124</td>\n",
       "      <td>0.286844</td>\n",
       "      <td>0.019053</td>\n",
       "      <td>-0.911061</td>\n",
       "      <td>2</td>\n",
       "      <td>Antigua and Barbuda</td>\n",
       "    </tr>\n",
       "  </tbody>\n",
       "</table>\n",
       "</div>"
      ],
      "text/plain": [
       "        pc1       pc2       pc3       pc4  cluster_id              country\n",
       "0 -2.966365  0.014543 -1.036420  0.768485           0          Afghanistan\n",
       "1  0.442288 -0.507039  0.022429 -1.284641           2              Albania\n",
       "2 -0.365026 -0.641205  1.663468 -0.247008           1              Algeria\n",
       "3 -3.109768  1.420818  1.634979  1.711483           0               Angola\n",
       "4  1.101124  0.286844  0.019053 -0.911061           2  Antigua and Barbuda"
      ]
     },
     "execution_count": 90,
     "metadata": {},
     "output_type": "execute_result"
    }
   ],
   "source": [
    "# Assign cluster labels\n",
    "final_df = df.copy()\n",
    "final_df['cluster_id'] = kmeans.labels_\n",
    "final_df['country'] = y\n",
    "final_df.head()"
   ]
  },
  {
   "cell_type": "code",
   "execution_count": 91,
   "metadata": {},
   "outputs": [
    {
     "data": {
      "text/plain": [
       "{0: ['Afghanistan',\n",
       "  'Angola',\n",
       "  'Benin',\n",
       "  'Botswana',\n",
       "  'Burkina Faso',\n",
       "  'Burundi',\n",
       "  'Cameroon',\n",
       "  'Central African Republic',\n",
       "  'Chad',\n",
       "  'Comoros',\n",
       "  'Congo, Dem. Rep.',\n",
       "  'Congo, Rep.',\n",
       "  \"Cote d'Ivoire\",\n",
       "  'Equatorial Guinea',\n",
       "  'Eritrea',\n",
       "  'Gambia',\n",
       "  'Ghana',\n",
       "  'Guinea',\n",
       "  'Guinea-Bissau',\n",
       "  'Haiti',\n",
       "  'Kenya',\n",
       "  'Kiribati',\n",
       "  'Lao',\n",
       "  'Lesotho',\n",
       "  'Liberia',\n",
       "  'Madagascar',\n",
       "  'Malawi',\n",
       "  'Mali',\n",
       "  'Mauritania',\n",
       "  'Mozambique',\n",
       "  'Namibia',\n",
       "  'Niger',\n",
       "  'Oman',\n",
       "  'Romania',\n",
       "  'Samoa',\n",
       "  'Serbia',\n",
       "  'Slovak Republic',\n",
       "  'Spain',\n",
       "  'Sweden',\n",
       "  'Tajikistan',\n",
       "  'Tanzania',\n",
       "  'Tunisia',\n",
       "  'Venezuela'],\n",
       " 2: ['Albania',\n",
       "  'Antigua and Barbuda',\n",
       "  'Bahamas',\n",
       "  'Bahrain',\n",
       "  'Barbados',\n",
       "  'Belarus',\n",
       "  'Belize',\n",
       "  'Bhutan',\n",
       "  'Bosnia and Herzegovina',\n",
       "  'Bulgaria',\n",
       "  'Cambodia',\n",
       "  'Cape Verde',\n",
       "  'Costa Rica',\n",
       "  'Croatia',\n",
       "  'Czech Republic',\n",
       "  'El Salvador',\n",
       "  'Estonia',\n",
       "  'Fiji',\n",
       "  'Georgia',\n",
       "  'Grenada',\n",
       "  'Guyana',\n",
       "  'Hungary',\n",
       "  'Jordan',\n",
       "  'Kyrgyz Republic',\n",
       "  'Latvia',\n",
       "  'Lebanon',\n",
       "  'Lithuania',\n",
       "  'Macedonia, FYR',\n",
       "  'Malaysia',\n",
       "  'Maldives',\n",
       "  'Malta',\n",
       "  'Mauritius',\n",
       "  'Micronesia, Fed. Sts.',\n",
       "  'Moldova',\n",
       "  'Montenegro',\n",
       "  'Morocco',\n",
       "  'Pakistan',\n",
       "  'Panama',\n",
       "  'Philippines',\n",
       "  'Portugal',\n",
       "  'Russia',\n",
       "  'Saudi Arabia',\n",
       "  'Senegal',\n",
       "  'Seychelles',\n",
       "  'Singapore',\n",
       "  'Slovenia',\n",
       "  'South Korea',\n",
       "  'Sri Lanka',\n",
       "  'Switzerland',\n",
       "  'Thailand',\n",
       "  'Timor-Leste',\n",
       "  'Tonga',\n",
       "  'Turkey',\n",
       "  'United States',\n",
       "  'Uzbekistan'],\n",
       " 1: ['Algeria',\n",
       "  'Argentina',\n",
       "  'Armenia',\n",
       "  'Azerbaijan',\n",
       "  'Bangladesh',\n",
       "  'Bolivia',\n",
       "  'Brazil',\n",
       "  'Chile',\n",
       "  'China',\n",
       "  'Colombia',\n",
       "  'Dominican Republic',\n",
       "  'Ecuador',\n",
       "  'Egypt',\n",
       "  'Gabon',\n",
       "  'Guatemala',\n",
       "  'India',\n",
       "  'Indonesia',\n",
       "  'Iran',\n",
       "  'Iraq',\n",
       "  'Jamaica',\n",
       "  'Kazakhstan',\n",
       "  'Libya',\n",
       "  'Mongolia',\n",
       "  'Myanmar',\n",
       "  'Nepal',\n",
       "  'Norway',\n",
       "  'Paraguay',\n",
       "  'Peru',\n",
       "  'Qatar',\n",
       "  'Rwanda',\n",
       "  'South Africa',\n",
       "  'Suriname',\n",
       "  'Togo',\n",
       "  'United Arab Emirates',\n",
       "  'United Kingdom',\n",
       "  'Uruguay',\n",
       "  'Vanuatu'],\n",
       " 3: ['Australia',\n",
       "  'Austria',\n",
       "  'Belgium',\n",
       "  'Brunei',\n",
       "  'Canada',\n",
       "  'Cyprus',\n",
       "  'Denmark',\n",
       "  'Finland',\n",
       "  'France',\n",
       "  'Germany',\n",
       "  'Greece',\n",
       "  'Iceland',\n",
       "  'Ireland',\n",
       "  'Israel',\n",
       "  'Italy',\n",
       "  'Japan',\n",
       "  'Kuwait',\n",
       "  'Luxembourg',\n",
       "  'Netherlands',\n",
       "  'New Zealand',\n",
       "  'Nigeria',\n",
       "  'Poland',\n",
       "  'Sierra Leone',\n",
       "  'Solomon Islands',\n",
       "  'St. Vincent and the Grenadines',\n",
       "  'Sudan',\n",
       "  'Turkmenistan',\n",
       "  'Uganda',\n",
       "  'Ukraine']}"
      ]
     },
     "execution_count": 91,
     "metadata": {},
     "output_type": "execute_result"
    }
   ],
   "source": [
    "cluster_dict = {}\n",
    "\n",
    "for cluster_id in final_df['cluster_id'].unique():\n",
    "    cluster_countries = list(final_df[final_df['cluster_id'] == cluster_id]['country'])\n",
    "    cluster_dict[cluster_id] = cluster_countries\n",
    "\n",
    "cluster_dict"
   ]
  },
  {
   "cell_type": "code",
   "execution_count": 92,
   "metadata": {},
   "outputs": [
    {
     "data": {
      "text/plain": [
       "<matplotlib.axes._subplots.AxesSubplot at 0x127758d30>"
      ]
     },
     "execution_count": 92,
     "metadata": {},
     "output_type": "execute_result"
    },
    {
     "data": {
      "image/png": "[encoded data removed]",
      "text/plain": [
       "<Figure size 432x288 with 1 Axes>"
      ]
     },
     "metadata": {
      "needs_background": "light"
     },
     "output_type": "display_data"
    }
   ],
   "source": [
    "sns.boxplot(x='cluster_id', y='pc1', data=final_df)"
   ]
  },
  {
   "cell_type": "code",
   "execution_count": 93,
   "metadata": {},
   "outputs": [
    {
     "data": {
      "text/plain": [
       "<matplotlib.axes._subplots.AxesSubplot at 0x12773db38>"
      ]
     },
     "execution_count": 93,
     "metadata": {},
     "output_type": "execute_result"
    },
    {
     "data": {
      "image/png": "[encoded data removed]",
      "text/plain": [
       "<Figure size 432x288 with 1 Axes>"
      ]
     },
     "metadata": {
      "needs_background": "light"
     },
     "output_type": "display_data"
    }
   ],
   "source": [
    "sns.boxplot(x='cluster_id', y='pc2', data=final_df)"
   ]
  },
  {
   "cell_type": "code",
   "execution_count": 94,
   "metadata": {},
   "outputs": [
    {
     "data": {
      "text/plain": [
       "<matplotlib.axes._subplots.AxesSubplot at 0x127951358>"
      ]
     },
     "execution_count": 94,
     "metadata": {},
     "output_type": "execute_result"
    },
    {
     "data": {
      "image/png": "[encoded data removed]",
      "text/plain": [
       "<Figure size 432x288 with 1 Axes>"
      ]
     },
     "metadata": {
      "needs_background": "light"
     },
     "output_type": "display_data"
    }
   ],
   "source": [
    "sns.boxplot(x='cluster_id', y='pc3', data=final_df)"
   ]
  },
  {
   "cell_type": "code",
   "execution_count": 95,
   "metadata": {},
   "outputs": [
    {
     "data": {
      "text/plain": [
       "<matplotlib.axes._subplots.AxesSubplot at 0x127a7d860>"
      ]
     },
     "execution_count": 95,
     "metadata": {},
     "output_type": "execute_result"
    },
    {
     "data": {
      "image/png": "[encoded data removed]",
      "text/plain": [
       "<Figure size 432x288 with 1 Axes>"
      ]
     },
     "metadata": {
      "needs_background": "light"
     },
     "output_type": "display_data"
    }
   ],
   "source": [
    "sns.boxplot(x='cluster_id', y='pc4', data=final_df)"
   ]
  },
  {
   "cell_type": "code",
   "execution_count": 96,
   "metadata": {},
   "outputs": [
    {
     "data": {
      "text/plain": [
       "<seaborn.axisgrid.PairGrid at 0x127b84f60>"
      ]
     },
     "execution_count": 96,
     "metadata": {},
     "output_type": "execute_result"
    },
    {
     "data": {
      "image/png": "[encoded data removed]",
      "text/plain": [
       "<Figure size 416.375x360 with 1 Axes>"
      ]
     },
     "metadata": {
      "needs_background": "light"
     },
     "output_type": "display_data"
    }
   ],
   "source": [
    "sns.pairplot(data=final_df, x_vars=['pc1'], y_vars=['pc2'], hue='cluster_id', size=5)"
   ]
  },
  {
   "cell_type": "markdown",
   "metadata": {},
   "source": [
    "# Inference"
   ]
  },
  {
   "cell_type": "code",
   "execution_count": 97,
   "metadata": {},
   "outputs": [
    {
     "data": {
      "text/html": [
       "<div>\n",
       "<style scoped>\n",
       "    .dataframe tbody tr th:only-of-type {\n",
       "        vertical-align: middle;\n",
       "    }\n",
       "\n",
       "    .dataframe tbody tr th {\n",
       "        vertical-align: top;\n",
       "    }\n",
       "\n",
       "    .dataframe thead th {\n",
       "        text-align: right;\n",
       "    }\n",
       "</style>\n",
       "<table border=\"1\" class=\"dataframe\">\n",
       "  <thead>\n",
       "    <tr style=\"text-align: right;\">\n",
       "      <th></th>\n",
       "      <th>child_mort</th>\n",
       "      <th>exports</th>\n",
       "      <th>health</th>\n",
       "      <th>imports</th>\n",
       "      <th>income</th>\n",
       "      <th>inflation</th>\n",
       "      <th>life_expec</th>\n",
       "      <th>total_fer</th>\n",
       "      <th>gdpp</th>\n",
       "      <th>cluster_id</th>\n",
       "      <th>country</th>\n",
       "    </tr>\n",
       "  </thead>\n",
       "  <tbody>\n",
       "    <tr>\n",
       "      <th>0</th>\n",
       "      <td>90.2</td>\n",
       "      <td>10.0</td>\n",
       "      <td>7.58</td>\n",
       "      <td>44.9</td>\n",
       "      <td>1610</td>\n",
       "      <td>9.44</td>\n",
       "      <td>56.2</td>\n",
       "      <td>5.82</td>\n",
       "      <td>553</td>\n",
       "      <td>0</td>\n",
       "      <td>Afghanistan</td>\n",
       "    </tr>\n",
       "    <tr>\n",
       "      <th>1</th>\n",
       "      <td>16.6</td>\n",
       "      <td>28.0</td>\n",
       "      <td>6.55</td>\n",
       "      <td>48.6</td>\n",
       "      <td>9930</td>\n",
       "      <td>4.49</td>\n",
       "      <td>76.3</td>\n",
       "      <td>1.65</td>\n",
       "      <td>4090</td>\n",
       "      <td>2</td>\n",
       "      <td>Albania</td>\n",
       "    </tr>\n",
       "    <tr>\n",
       "      <th>2</th>\n",
       "      <td>27.3</td>\n",
       "      <td>38.4</td>\n",
       "      <td>4.17</td>\n",
       "      <td>31.4</td>\n",
       "      <td>12900</td>\n",
       "      <td>16.10</td>\n",
       "      <td>76.5</td>\n",
       "      <td>2.89</td>\n",
       "      <td>4460</td>\n",
       "      <td>1</td>\n",
       "      <td>Algeria</td>\n",
       "    </tr>\n",
       "    <tr>\n",
       "      <th>3</th>\n",
       "      <td>119.0</td>\n",
       "      <td>62.3</td>\n",
       "      <td>2.85</td>\n",
       "      <td>42.9</td>\n",
       "      <td>5900</td>\n",
       "      <td>22.40</td>\n",
       "      <td>60.1</td>\n",
       "      <td>6.16</td>\n",
       "      <td>3530</td>\n",
       "      <td>0</td>\n",
       "      <td>Angola</td>\n",
       "    </tr>\n",
       "    <tr>\n",
       "      <th>4</th>\n",
       "      <td>10.3</td>\n",
       "      <td>45.5</td>\n",
       "      <td>6.03</td>\n",
       "      <td>58.9</td>\n",
       "      <td>19100</td>\n",
       "      <td>1.44</td>\n",
       "      <td>76.8</td>\n",
       "      <td>2.13</td>\n",
       "      <td>12200</td>\n",
       "      <td>2</td>\n",
       "      <td>Antigua and Barbuda</td>\n",
       "    </tr>\n",
       "  </tbody>\n",
       "</table>\n",
       "</div>"
      ],
      "text/plain": [
       "   child_mort  exports  health  imports  income  inflation  life_expec  \\\n",
       "0        90.2     10.0    7.58     44.9    1610       9.44        56.2   \n",
       "1        16.6     28.0    6.55     48.6    9930       4.49        76.3   \n",
       "2        27.3     38.4    4.17     31.4   12900      16.10        76.5   \n",
       "3       119.0     62.3    2.85     42.9    5900      22.40        60.1   \n",
       "4        10.3     45.5    6.03     58.9   19100       1.44        76.8   \n",
       "\n",
       "   total_fer   gdpp  cluster_id              country  \n",
       "0       5.82    553           0          Afghanistan  \n",
       "1       1.65   4090           2              Albania  \n",
       "2       2.89   4460           1              Algeria  \n",
       "3       6.16   3530           0               Angola  \n",
       "4       2.13  12200           2  Antigua and Barbuda  "
      ]
     },
     "execution_count": 97,
     "metadata": {},
     "output_type": "execute_result"
    }
   ],
   "source": [
    "data['cluster_id'] = kmeans.labels_\n",
    "data['country'] = y\n",
    "data.head()"
   ]
  },
  {
   "cell_type": "code",
   "execution_count": 98,
   "metadata": {},
   "outputs": [
    {
     "data": {
      "text/plain": [
       "<matplotlib.axes._subplots.AxesSubplot at 0x127c70e10>"
      ]
     },
     "execution_count": 98,
     "metadata": {},
     "output_type": "execute_result"
    },
    {
     "data": {
      "image/png": "[encoded data removed]",
      "text/plain": [
       "<Figure size 432x288 with 1 Axes>"
      ]
     },
     "metadata": {
      "needs_background": "light"
     },
     "output_type": "display_data"
    }
   ],
   "source": [
    "sns.boxplot(x='cluster_id', y='gdpp', data=data)"
   ]
  },
  {
   "cell_type": "code",
   "execution_count": 99,
   "metadata": {},
   "outputs": [
    {
     "data": {
      "text/plain": [
       "<matplotlib.axes._subplots.AxesSubplot at 0x127e51588>"
      ]
     },
     "execution_count": 99,
     "metadata": {},
     "output_type": "execute_result"
    },
    {
     "data": {
      "image/png": "[encoded data removed]",
      "text/plain": [
       "<Figure size 432x288 with 1 Axes>"
      ]
     },
     "metadata": {
      "needs_background": "light"
     },
     "output_type": "display_data"
    }
   ],
   "source": [
    "sns.boxplot(x='cluster_id', y='child_mort', data=data)"
   ]
  },
  {
   "cell_type": "code",
   "execution_count": 100,
   "metadata": {},
   "outputs": [
    {
     "data": {
      "text/plain": [
       "<matplotlib.axes._subplots.AxesSubplot at 0x127f747f0>"
      ]
     },
     "execution_count": 100,
     "metadata": {},
     "output_type": "execute_result"
    },
    {
     "data": {
      "image/png": "[encoded data removed]",
      "text/plain": [
       "<Figure size 432x288 with 1 Axes>"
      ]
     },
     "metadata": {
      "needs_background": "light"
     },
     "output_type": "display_data"
    }
   ],
   "source": [
    "sns.boxplot(x='cluster_id', y='income', data=data)"
   ]
  },
  {
   "cell_type": "code",
   "execution_count": 101,
   "metadata": {},
   "outputs": [
    {
     "data": {
      "text/plain": [
       "<seaborn.axisgrid.PairGrid at 0x1280628d0>"
      ]
     },
     "execution_count": 101,
     "metadata": {},
     "output_type": "execute_result"
    },
    {
     "data": {
      "image/png": "[encoded data removed]",
      "text/plain": [
       "<Figure size 416.375x360 with 1 Axes>"
      ]
     },
     "metadata": {
      "needs_background": "light"
     },
     "output_type": "display_data"
    }
   ],
   "source": [
    "sns.pairplot(data=data, x_vars=['income'], y_vars=['child_mort'], hue='cluster_id', size=5)"
   ]
  },
  {
   "cell_type": "code",
   "execution_count": 104,
   "metadata": {},
   "outputs": [
    {
     "data": {
      "text/plain": [
       "['Afghanistan',\n",
       " 'Angola',\n",
       " 'Benin',\n",
       " 'Botswana',\n",
       " 'Burkina Faso',\n",
       " 'Burundi',\n",
       " 'Cameroon',\n",
       " 'Central African Republic',\n",
       " 'Chad',\n",
       " 'Comoros',\n",
       " 'Congo, Dem. Rep.',\n",
       " 'Congo, Rep.',\n",
       " \"Cote d'Ivoire\",\n",
       " 'Equatorial Guinea',\n",
       " 'Eritrea',\n",
       " 'Gambia',\n",
       " 'Ghana',\n",
       " 'Guinea',\n",
       " 'Guinea-Bissau',\n",
       " 'Haiti',\n",
       " 'Kenya',\n",
       " 'Kiribati',\n",
       " 'Lao',\n",
       " 'Lesotho',\n",
       " 'Liberia',\n",
       " 'Madagascar',\n",
       " 'Malawi',\n",
       " 'Mali',\n",
       " 'Mauritania',\n",
       " 'Mozambique',\n",
       " 'Namibia',\n",
       " 'Niger',\n",
       " 'Oman',\n",
       " 'Romania',\n",
       " 'Samoa',\n",
       " 'Serbia',\n",
       " 'Slovak Republic',\n",
       " 'Spain',\n",
       " 'Sweden',\n",
       " 'Tajikistan',\n",
       " 'Tanzania',\n",
       " 'Tunisia',\n",
       " 'Venezuela']"
      ]
     },
     "execution_count": 104,
     "metadata": {},
     "output_type": "execute_result"
    }
   ],
   "source": [
    "cluster_dict[0]"
   ]
  },
  {
   "cell_type": "markdown",
   "metadata": {},
   "source": [
    "They should focus on these countries above since they are in need of dire aid. They have the highest child mortality rate and the least income."
   ]
  }
 ],
 "metadata": {
  "kernelspec": {
   "display_name": "Python 3",
   "language": "python",
   "name": "python3"
  },
  "language_info": {
   "codemirror_mode": {
    "name": "ipython",
    "version": 3
   },
   "file_extension": ".py",
   "mimetype": "text/x-python",
   "name": "python",
   "nbconvert_exporter": "python",
   "pygments_lexer": "ipython3",
   "version": "3.7.0"
  }
 },
 "nbformat": 4,
 "nbformat_minor": 2
}
